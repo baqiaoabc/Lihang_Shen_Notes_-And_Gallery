{
 "cells": [
  {
   "cell_type": "markdown",
   "metadata": {},
   "source": [
    "# COMP5318/COMP4318 Week 8: Convolutional Neural Networks and Recurrent Neural Networks"
   ]
  },
  {
   "cell_type": "markdown",
   "metadata": {},
   "source": [
    "While the multilayer perceptron networks from the previous lab can be very powerful, they have limitations on particular tasks. \n",
    "\n",
    "In an MLP trained on an image task, we learn weights between every input neuron (eg. every pixel position) and the neurons in the next layer. However, if we wish to detect features of different sizes, angles and positions in the image, it can be difficult to learn weights for each input pixel position. Moreover, using fully connected layers quickly leads to an explosion in the number of parameters in the network as the input image size grows.\n",
    "\n",
    "Today, we will introduce the implementation of basic convolutional neural networks (CNNs), which are deep neural networks specifically designed to better capture spatial relationships between regions of neigbouring pixels and extract features from images in a manner loosely inspired by the visual cortex.\n",
    "\n",
    "MLPs are also not optimised to handle sequence data, since they process all inputs in the same manner without any distinction of order. In the second part of today's lab, we will introduce the implementation of recurrent neural networks (RNNs) which are specifically designed to process temporal data."
   ]
  },
  {
   "cell_type": "markdown",
   "metadata": {},
   "source": [
    "## 1. Setup\n",
    "We begin by importing some packages used throughout the notebook and setting up our plotting environment."
   ]
  },
  {
   "cell_type": "code",
   "execution_count": 1,
   "metadata": {},
   "outputs": [],
   "source": [
    "import sys\n",
    "import numpy as np\n",
    "import pandas as pd\n",
    "import matplotlib.pyplot as plt\n",
    "import sklearn\n",
    "import time\n",
    "\n",
    "# Import our deep learning libraries which were installed last week\n",
    "import tensorflow as tf\n",
    "from tensorflow import keras\n",
    "\n",
    "from sklearn.model_selection import train_test_split\n",
    "\n",
    "# Make the notebook's output stable across runs\n",
    "np.random.seed(42)\n",
    "tf.random.set_seed(42)\n",
    "keras.backend.clear_session()\n",
    "\n",
    "# Set up inline plotting and figure/axis labels\n",
    "%matplotlib inline\n",
    "import matplotlib as mpl\n",
    "import matplotlib.pyplot as plt\n",
    "mpl.rc('axes', labelsize=14)\n",
    "mpl.rc('xtick', labelsize=12)\n",
    "mpl.rc('ytick', labelsize=12)\n",
    "\n",
    "def plot_image(image):\n",
    "    # Remove redundant extra dimension\n",
    "    if image.shape[-1] == 1:\n",
    "        image = image.squeeze(axis=-1)\n",
    "        \n",
    "    plt.imshow(image, cmap=\"gray\", interpolation=\"nearest\")\n",
    "    plt.axis(\"off\")\n",
    "\n",
    "def plot_color_image(image):\n",
    "    # Remove redundant extra dimension\n",
    "    if image.shape[-1] == 1:\n",
    "        image = image.squeeze(axis=-1)\n",
    "        \n",
    "    plt.imshow(image, interpolation=\"nearest\")\n",
    "    plt.axis(\"off\")\n",
    "    \n",
    "def plot_examples(data, n_rows=4, n_cols=10):\n",
    "    \"\"\"Plot a grid of images which are encoded as numpy arrays.\"\"\"\n",
    "    \n",
    "    # Remove redundant extra dimension\n",
    "    if data.shape[-1] == 1:\n",
    "        data = data.squeeze(axis=-1)\n",
    "        \n",
    "    \n",
    "    # Size figure depending on the size of the grid\n",
    "    plt.figure(figsize=(n_cols * 1.2, n_rows * 1.2))\n",
    "    \n",
    "    for row in range(n_rows):\n",
    "        for col in range(n_cols):\n",
    "            \n",
    "            # Get next index of image\n",
    "            index = n_cols * row + col\n",
    "            \n",
    "            # Plot the image at appropriate place in grid\n",
    "            plt.subplot(n_rows, n_cols, index + 1)\n",
    "            plt.imshow(data[index], cmap=\"binary\")\n",
    "            plt.axis('off')\n",
    "            \n",
    "    plt.show()"
   ]
  },
  {
   "cell_type": "markdown",
   "metadata": {},
   "source": [
    "## 2. Convolutional Neural Network using Keras\n",
    "\n",
    "To introduce you to the implementation of convolutional neural networks using Keras, we will begin by solving the now familiar [MNIST](http://yann.lecun.com/exdb/mnist/) problem. This will give us a useful point of comparison to the MLP we used on this task last week. Also, a small network will suffice for this task, which is important when we wish to run the lab on our local hardware where GPUs may not be available.\n",
    "\n",
    "### Data loading and preprocessing\n",
    "Let's begin with the same data preparation steps as last week, condensed into the following cell:"
   ]
  },
  {
   "cell_type": "code",
   "execution_count": 2,
   "metadata": {},
   "outputs": [
    {
     "name": "stdout",
     "output_type": "stream",
     "text": [
      "Shape of X_train: (54000, 28, 28)\n"
     ]
    }
   ],
   "source": [
    "# Load the MNIST data\n",
    "(X_train_full, y_train_full), (X_test, y_test) = keras.datasets.mnist.load_data()\n",
    "\n",
    "# Scale the data to the range 0-1\n",
    "X_train_full = X_train_full / 255.\n",
    "X_test = X_test / 255.\n",
    "\n",
    "# Create validation set from the training set\n",
    "X_train, X_valid, y_train, y_valid = train_test_split(X_train_full, y_train_full, train_size=0.9)\n",
    "\n",
    "print(f\"Shape of X_train: {X_train.shape}\")"
   ]
  },
  {
   "cell_type": "markdown",
   "metadata": {},
   "source": [
    "Last week, we flattened each image into a vector before feeding it to the MLP. However, for input to CNNs we usually keep the original image dimensions intact since they will extract features from neighbouring pixel regions. \n",
    "\n",
    "In fact, most standard CNNs expect a 4 dimensional array as input:\n",
    "```(batch_size, width, height, n_channels)```\n",
    "\n",
    "The final dimension, ```n_channels```, corresponds to the number of values per image pixel. RGB colour images typically have three channels, with a value for the intensity of red, green, and blue primary colours. Combining these values can produce a broad array of colours.\n",
    "\n",
    "Recall that MNIST images are greyscale, so we only have one value per image pixel. While this makes the extra dimension somewhat redundant, our model will still expect it in the input. Let's add it using ```np.expand_dims```."
   ]
  },
  {
   "cell_type": "code",
   "execution_count": 3,
   "metadata": {},
   "outputs": [
    {
     "name": "stdout",
     "output_type": "stream",
     "text": [
      "New shape of X_train: (54000, 28, 28, 1)\n"
     ]
    }
   ],
   "source": [
    "# Add an extra dimension to our data\n",
    "X_train = np.expand_dims(X_train, -1)\n",
    "X_valid = np.expand_dims(X_valid, -1)\n",
    "X_test = np.expand_dims(X_test, -1)\n",
    "\n",
    "print(f\"New shape of X_train: {X_train.shape}\")"
   ]
  },
  {
   "cell_type": "markdown",
   "metadata": {},
   "source": [
    "### A note on CNN architecture design\n",
    "\n",
    "Now that our data is prepared appropriately for input to a CNN, it is time to design our model.\n",
    "\n",
    "The problem of model design is no less difficult for CNNs than for MLPs. In fact, we introduce more possible decisions, as each convolutional layer has different possible number of filters, kernel sizes, strides, and padding. Additionally, modern CNNs are often very deep networks with more layers than are practically possible for MLPs.\n",
    "\n",
    "For problems where deep CNNs are required, it is common to use existing architectures as a starting point rather than design your own. These architectures have often been developed from extensive experimentation, and relieve a lot of the design burden, often requiring just some slight changes to the input or output layers to be fully functional on your dataset. You can find a variety of different architectures which differ in complexity, runtime, and performance. Several now classic architectures for image classification include:\n",
    "- [AlexNet](https://papers.nips.cc/paper/4824-imagenet-classification-with-deep-convolutional-neural-networks.pdf)\n",
    "- [VGG](https://arxiv.org/pdf/1409.1556.pdf)\n",
    "- [ResNet](https://arxiv.org/abs/1512.03385)\n",
    "\n",
    "Keras implementations for each are available from various sources, or you could try define your own from the papers!\n",
    "\n",
    "### Defining our CNN model\n",
    "These existing models have many layers and require a GPU to run efficiently. Instead, we will define a small, simple CNN which can run on our local hardware more efficiently, and still perform excellently at the MNIST problem.\n",
    "\n",
    "Let's define the model now using ```keras.Sequential``` and then we will unpack each component."
   ]
  },
  {
   "cell_type": "code",
   "execution_count": 4,
   "metadata": {},
   "outputs": [],
   "source": [
    "model = keras.Sequential([\n",
    "    \n",
    "    # Specify the input shape\n",
    "    keras.Input(shape=(28, 28, 1)),\n",
    "    \n",
    "    # Conv and pool block 1\n",
    "    keras.layers.Conv2D(32, kernel_size=(3, 3), activation=\"relu\"),\n",
    "    keras.layers.MaxPooling2D(pool_size=(2, 2)),\n",
    "    \n",
    "    # Conv and pool block 2\n",
    "    keras.layers.Conv2D(64, kernel_size=(3, 3), activation=\"relu\"),\n",
    "    keras.layers.MaxPooling2D(pool_size=(2, 2)),\n",
    "    \n",
    "    # Flatten and classify using dense output layer\n",
    "    keras.layers.Flatten(),\n",
    "    keras.layers.Dropout(0.5),\n",
    "    keras.layers.Dense(10, activation=\"softmax\"),\n",
    "])"
   ]
  },
  {
   "cell_type": "code",
   "execution_count": 5,
   "metadata": {
    "scrolled": true
   },
   "outputs": [
    {
     "name": "stdout",
     "output_type": "stream",
     "text": [
      "Model: \"sequential\"\n",
      "_________________________________________________________________\n",
      " Layer (type)                Output Shape              Param #   \n",
      "=================================================================\n",
      " conv2d (Conv2D)             (None, 26, 26, 32)        320       \n",
      "                                                                 \n",
      " max_pooling2d (MaxPooling2D  (None, 13, 13, 32)       0         \n",
      " )                                                               \n",
      "                                                                 \n",
      " conv2d_1 (Conv2D)           (None, 11, 11, 64)        18496     \n",
      "                                                                 \n",
      " max_pooling2d_1 (MaxPooling  (None, 5, 5, 64)         0         \n",
      " 2D)                                                             \n",
      "                                                                 \n",
      " flatten (Flatten)           (None, 1600)              0         \n",
      "                                                                 \n",
      " dropout (Dropout)           (None, 1600)              0         \n",
      "                                                                 \n",
      " dense (Dense)               (None, 10)                16010     \n",
      "                                                                 \n",
      "=================================================================\n",
      "Total params: 34,826\n",
      "Trainable params: 34,826\n",
      "Non-trainable params: 0\n",
      "_________________________________________________________________\n"
     ]
    }
   ],
   "source": [
    "model.summary()"
   ]
  },
  {
   "cell_type": "markdown",
   "metadata": {},
   "source": [
    "- __*Input layer*__\n",
    "\n",
    "For this model, we don't need to flatten the data at the beginning of the network. However, we use this layer to specify the expected input size, so that Keras can deduce the parameters in the rest of the model.\n",
    "\n",
    "- __*Convolutional layers*__\n",
    "\n",
    "These are the most important components of the CNN, and account for its name. \n",
    "\n",
    "As a brief recap, rather than being connected to every pixel in the input image, neurons in the first convolutional layer are connected to a small region of neighbouring pixels (their receptive field). Thus the output of these neurons is determined by low-level features picked up by the weights connected to its receptive field. \n",
    "\n",
    "In fact, we typically reuse multiple sets of weights for every neighbourhood of pixels to detect different features across the image. These sets of weights are called kernels or filters, and after training they will learn to pick up different features, such as lines and curves in the first conv layer. \n",
    "\n",
    "The next convolutional layer performs the same process, but will assemble the information about these low-level features to detect higher level features such as shapes. This hierarchical structure is loosely inspired by research into the visual cortex ([for the interested reader](https://www.nobelprize.org/prizes/medicine/1981/summary/)).\n",
    "\n",
    "Since each filter is applied to various regions in the image, we typically think about it striding across the input. The regions covered and number of neurons in the next layer are determined by the size of the kernel, the size of the strides we take, and the padding used around the borders of the input.\n",
    "\n",
    "The following gifs may help understand the concept:\n",
    "\n",
    "\n",
    "![Convolution_arithmetic_-_Padding_strides_odd.gif](https://upload.wikimedia.org/wikipedia/commons/2/2d/Convolution_arithmetic_-_Padding_strides_odd.gif)(Vincent Dumoulin, Francesco Visin, [MIT Licence <http://opensource.org/licenses/mit-license.php>], via Wikimedia Commons)"
   ]
  },
  {
   "cell_type": "markdown",
   "metadata": {},
   "source": [
    "![2D_Convolution_Animation.gif](https://upload.wikimedia.org/wikipedia/commons/1/19/2D_Convolution_Animation.gif)(Michael Plotke, [CC BY-SA 3.0](https://creativecommons.org/licenses/by-sa/3.0), via Wikimedia Commons)\n",
    "\n",
    "The Keras documentation for the ```Conv2D``` layer is located [here](https://keras.io/api/layers/convolution_layers/convolution2d/). We must specify the number of filters and the kernel size, as we have done above. Changing the stride and padding is also possible, however these are set to reasonable default values.\n",
    "\n",
    "Understanding the convolution operation can be difficult. For those interested in a more thorough explanation, there exist countless excellent tutorials online, and you may consult one of the course textbooks such as *Aurelien Geron (2019). Hands-on Machine Learning with Scikit-Learn, Keras and TensorFlow, O'Reilly.* Chapter 14, which is available online from the University library.\n",
    "\n",
    "- __*Pooling layers*__\n",
    "\n",
    "To reduce the number of parameters in the network, these layers downsample dimensions by taking the max value over input windows defined by ```pool_size```.\n",
    "\n",
    "- __*Fully connected classifier*__\n",
    "\n",
    "After the features of the image have been appropriately extracted by the convolutional blocks of the network, we flatten everything and use a fully connected classifier to produce probabilities over the classes.\n",
    "\n",
    "Note that with only one fully connected layer, our overall number of parameters is much lower than for the MLP we used last week!"
   ]
  },
  {
   "cell_type": "markdown",
   "metadata": {},
   "source": [
    "### Specifying the optimiser and loss function\n",
    "While a thorough treatment of different deep learning optimisers is beyond the scope of this course, today we will utilise the Adam optimiser ([paper](https://arxiv.org/abs/1412.6980)) ([Keras docs](https://keras.io/api/optimizers/adam/)), which extends on regular SGD by adapting the learning rates for individual parameters throughout training. Having these adaptive learning rates can greatly speed up our training process, and removes some of the importance of tuning the initial learning rate. \n",
    "\n",
    "\n",
    "As per last week, our labels are in index form rather than encoded as one-hot vectors. Hence, we utilse Keras' ```sparse_categorical_crossentropy``` loss."
   ]
  },
  {
   "cell_type": "code",
   "execution_count": 6,
   "metadata": {},
   "outputs": [],
   "source": [
    "# Compile model with loss, optimiser, and metrics\n",
    "model.compile(loss='sparse_categorical_crossentropy',\n",
    "              optimizer=\"adam\",\n",
    "              metrics=['accuracy'])"
   ]
  },
  {
   "cell_type": "markdown",
   "metadata": {},
   "source": [
    "### Training and evaluating the model\n"
   ]
  },
  {
   "cell_type": "markdown",
   "metadata": {},
   "source": [
    "The following training cell may take several minutes to run depending on your hardware. Even though there are less parameters than last week, these convolutional layers take a lot of computation! If you're pressed for time, you can just examine the outputs."
   ]
  },
  {
   "cell_type": "code",
   "execution_count": 7,
   "metadata": {},
   "outputs": [
    {
     "name": "stdout",
     "output_type": "stream",
     "text": [
      "Epoch 1/10\n",
      "422/422 [==============================] - 22s 52ms/step - loss: 0.3637 - accuracy: 0.8896 - val_loss: 0.0990 - val_accuracy: 0.9733\n",
      "Epoch 2/10\n",
      "422/422 [==============================] - 25s 59ms/step - loss: 0.1124 - accuracy: 0.9660 - val_loss: 0.0670 - val_accuracy: 0.9822\n",
      "Epoch 3/10\n",
      "422/422 [==============================] - 28s 66ms/step - loss: 0.0843 - accuracy: 0.9737 - val_loss: 0.0523 - val_accuracy: 0.9858\n",
      "Epoch 4/10\n",
      "422/422 [==============================] - 26s 62ms/step - loss: 0.0688 - accuracy: 0.9788 - val_loss: 0.0468 - val_accuracy: 0.9862\n",
      "Epoch 5/10\n",
      "422/422 [==============================] - 22s 53ms/step - loss: 0.0616 - accuracy: 0.9814 - val_loss: 0.0423 - val_accuracy: 0.9882\n",
      "Epoch 6/10\n",
      "422/422 [==============================] - 21s 50ms/step - loss: 0.0543 - accuracy: 0.9830 - val_loss: 0.0405 - val_accuracy: 0.9887\n",
      "Epoch 7/10\n",
      "422/422 [==============================] - 24s 58ms/step - loss: 0.0499 - accuracy: 0.9846 - val_loss: 0.0396 - val_accuracy: 0.9888\n",
      "Epoch 8/10\n",
      "422/422 [==============================] - 26s 62ms/step - loss: 0.0479 - accuracy: 0.9850 - val_loss: 0.0383 - val_accuracy: 0.9890\n",
      "Epoch 9/10\n",
      "422/422 [==============================] - 28s 66ms/step - loss: 0.0433 - accuracy: 0.9869 - val_loss: 0.0350 - val_accuracy: 0.9903\n",
      "Epoch 10/10\n",
      "422/422 [==============================] - 27s 65ms/step - loss: 0.0410 - accuracy: 0.9873 - val_loss: 0.0330 - val_accuracy: 0.9907\n"
     ]
    }
   ],
   "source": [
    "\"\"\"Running this cell could take several minutes\"\"\"\n",
    "\n",
    "# Train the model for 10 epochs with batch size 128\n",
    "batch_size = 128\n",
    "epochs = 10\n",
    "history = model.fit(X_train, y_train, batch_size=batch_size,\n",
    "                    epochs=epochs, validation_data=(X_valid, y_valid))"
   ]
  },
  {
   "cell_type": "code",
   "execution_count": 8,
   "metadata": {},
   "outputs": [
    {
     "name": "stdout",
     "output_type": "stream",
     "text": [
      "313/313 [==============================] - 2s 5ms/step - loss: 0.0281 - accuracy: 0.9905\n",
      "Accuracy on test data: 0.9905\n"
     ]
    }
   ],
   "source": [
    "# Evaluate the classifier on the test data.\n",
    "loss, accuracy = model.evaluate(X_test, y_test)\n",
    "print(f\"Accuracy on test data: {accuracy:.4f}\")"
   ]
  },
  {
   "cell_type": "code",
   "execution_count": 9,
   "metadata": {},
   "outputs": [
    {
     "name": "stdout",
     "output_type": "stream",
     "text": [
      "[0 4 1]\n"
     ]
    },
    {
     "data": {
      "image/png": "[encoded data removed]",
      "text/plain": [
       "<Figure size 259.2x86.4 with 3 Axes>"
      ]
     },
     "metadata": {
      "needs_background": "light"
     },
     "output_type": "display_data"
    }
   ],
   "source": [
    "# Sample several test examples\n",
    "X_test_sample = X_test[3:6]\n",
    "\n",
    "# Get probability of each class from model\n",
    "y_proba = model.predict(X_test_sample)\n",
    "y_pred = np.argmax(y_proba, axis=-1)\n",
    "print(y_pred)\n",
    "\n",
    "plot_examples(X_test[3:], n_rows=1, n_cols=3)"
   ]
  },
  {
   "cell_type": "markdown",
   "metadata": {},
   "source": [
    "Using an MLP on this task, we hit a barrier around 98% accuracy. With the improvements in image feature extraction from CNNs, we have slightly improved our performance, even while using fewer parameters. On more difficult tasks where the images are not centred and size-normalised, the improvement is usually more pronounced.\n",
    "\n",
    "Towards the end of the notebook is a task where you will have a chance to apply a CNN to a more difficult classification problem with colour images."
   ]
  },
  {
   "cell_type": "markdown",
   "metadata": {},
   "source": [
    "## 3. LSTM using Keras"
   ]
  },
  {
   "cell_type": "markdown",
   "metadata": {},
   "source": [
    "Now let's look at a task which requires sequence processing, and solve it by implementing a type of recurrent neural network using Keras.\n",
    "\n",
    "The [Large Movie Review Dataset](https://ai.stanford.edu/~amaas/data/sentiment/) contains movie reviews written by users of the IMDB website, labelled by positive or negative sentiment. While not as simple as the MNIST image task, it has become somewhat of a benchmark dataset for recurrent networks.\n",
    "\n",
    "While we could try and solve this task without considering the order of the words and how close they are to each other, using RNNs allows us to capture the subtlety of phrases such as 'not good'.\n",
    "\n",
    "### Data loading, exploration and preprocessing\n",
    "\n",
    "Let's load the dataset from Keras ([documentation](https://keras.io/api/datasets/imdb/)). The purpose of the arguments we passed to ```load_data``` will be described below."
   ]
  },
  {
   "cell_type": "code",
   "execution_count": 10,
   "metadata": {},
   "outputs": [],
   "source": [
    "# Specify first index for words\n",
    "INDEX_FROM = 3\n",
    "\n",
    "# Include this number of the most common words in our vocabulary\n",
    "NUM_WORDS = 10000\n",
    "\n",
    "(X_train_full, y_train_full), (X_test, y_test) = tf.keras.datasets.imdb.load_data(\n",
    "    num_words=NUM_WORDS,\n",
    "    start_char=1,\n",
    "    oov_char=2,\n",
    "    index_from=INDEX_FROM,\n",
    ")"
   ]
  },
  {
   "cell_type": "markdown",
   "metadata": {},
   "source": [
    "Let's first check out the shape of the data we have loaded."
   ]
  },
  {
   "cell_type": "code",
   "execution_count": 11,
   "metadata": {},
   "outputs": [
    {
     "name": "stdout",
     "output_type": "stream",
     "text": [
      "Shape of X_train_full: (25000,)\n",
      "Shape of y_train_full: (25000,)\n",
      "Shape of X_test: (25000,)\n",
      "Shape of y_test: (25000,)\n"
     ]
    }
   ],
   "source": [
    "print(f\"Shape of X_train_full: {X_train_full.shape}\")\n",
    "print(f\"Shape of y_train_full: {y_train_full.shape}\")\n",
    "print(f\"Shape of X_test: {X_test.shape}\")\n",
    "print(f\"Shape of y_test: {y_test.shape}\")"
   ]
  },
  {
   "cell_type": "markdown",
   "metadata": {},
   "source": [
    "We have 25000 training and testing examples. However, it seems a bit strange that our data is one dimensional. Let's investigate this by looking at the first training example."
   ]
  },
  {
   "cell_type": "code",
   "execution_count": 12,
   "metadata": {
    "scrolled": true
   },
   "outputs": [
    {
     "name": "stdout",
     "output_type": "stream",
     "text": [
      "[1, 14, 22, 16, 43, 530, 973, 1622, 1385, 65, 458, 4468, 66, 3941, 4, 173, 36, 256, 5, 25, 100, 43, 838, 112, 50, 670, 2, 9, 35, 480, 284, 5, 150, 4, 172, 112, 167, 2, 336, 385, 39, 4, 172, 4536, 1111, 17, 546, 38, 13, 447, 4, 192, 50, 16, 6, 147, 2025, 19, 14, 22, 4, 1920, 4613, 469, 4, 22, 71, 87, 12, 16, 43, 530, 38, 76, 15, 13, 1247, 4, 22, 17, 515, 17, 12, 16, 626, 18, 2, 5, 62, 386, 12, 8, 316, 8, 106, 5, 4, 2223, 5244, 16, 480, 66, 3785, 33, 4, 130, 12, 16, 38, 619, 5, 25, 124, 51, 36, 135, 48, 25, 1415, 33, 6, 22, 12, 215, 28, 77, 52, 5, 14, 407, 16, 82, 2, 8, 4, 107, 117, 5952, 15, 256, 4, 2, 7, 3766, 5, 723, 36, 71, 43, 530, 476, 26, 400, 317, 46, 7, 4, 2, 1029, 13, 104, 88, 4, 381, 15, 297, 98, 32, 2071, 56, 26, 141, 6, 194, 7486, 18, 4, 226, 22, 21, 134, 476, 26, 480, 5, 144, 30, 5535, 18, 51, 36, 28, 224, 92, 25, 104, 4, 226, 65, 16, 38, 1334, 88, 12, 16, 283, 5, 16, 4472, 113, 103, 32, 15, 16, 5345, 19, 178, 32]\n"
     ]
    }
   ],
   "source": [
    "print(X_train_full[0])"
   ]
  },
  {
   "cell_type": "markdown",
   "metadata": {},
   "source": [
    "Our numpy arrays only have one dimension because each example is encoded as a list! The reason is that the reviews may have different lengths, and numpy arrays have a fixed shape in each dimension. Let's look at the length of another review."
   ]
  },
  {
   "cell_type": "code",
   "execution_count": 13,
   "metadata": {},
   "outputs": [
    {
     "name": "stdout",
     "output_type": "stream",
     "text": [
      "[1, 778, 128, 74, 12, 630, 163, 15, 4, 1766, 7982, 1051, 2, 32, 85, 156, 45, 40, 148, 139, 121, 664, 665, 10, 10, 1361, 173, 4, 749, 2, 16, 3804, 8, 4, 226, 65, 12, 43, 127, 24, 2, 10, 10]\n"
     ]
    }
   ],
   "source": [
    "print(X_train_full[5])"
   ]
  },
  {
   "cell_type": "markdown",
   "metadata": {},
   "source": [
    "- ***Data encoding***\n",
    "\n",
    "Another thing that may be foreign is the data encoding. Wasn't this meant to be a text dataset? \n",
    "\n",
    "In fact, the dataset comes preprocessed for use. It has been split into words with punctuation removed, and each unique word has been assigned an integer. The integers are assigned to the words in order of frequency, so the most common words are represented by the smallest numbers.\n",
    "\n",
    "When we loaded the data, we also specified that each example will begin with the 'start character' 1, and any words which don't belong to our chosen vocabulary of the 10000 most common words will be represented by an 'out of vocab character' 2.\n",
    "\n",
    "Not to fear: to better understand the dataset and recover the text, Keras includes a function to load a mapping from words to their indices, with just some minor processing requried to account for our special characters."
   ]
  },
  {
   "cell_type": "code",
   "execution_count": 14,
   "metadata": {
    "scrolled": false
   },
   "outputs": [],
   "source": [
    "# Load dictionary mapping words to indices\n",
    "word_to_index = tf.keras.datasets.imdb.get_word_index()\n",
    "\n",
    "# Account for the start and out of vocab characters\n",
    "word_to_index = {k : (v+3) for (k, v) in word_to_index.items()}\n",
    "word_to_index[\"<PAD>\"] = 0\n",
    "word_to_index[\"<START>\"] = 1\n",
    "word_to_index[\"<UNK>\"] = 2\n",
    "word_to_index[\"<UNUSED>\"] = 3"
   ]
  },
  {
   "cell_type": "code",
   "execution_count": null,
   "metadata": {},
   "outputs": [],
   "source": [
    "# Display the dictionary\n",
    "word_to_index"
   ]
  },
  {
   "cell_type": "code",
   "execution_count": 16,
   "metadata": {
    "scrolled": true
   },
   "outputs": [
    {
     "name": "stdout",
     "output_type": "stream",
     "text": [
      "Index for 'the': 4\n",
      "Index for 'good': 52\n",
      "Index for 'dog': 912\n"
     ]
    }
   ],
   "source": [
    "# Examine some common words\n",
    "print(f\"Index for 'the': {word_to_index['the']}\")\n",
    "print(f\"Index for 'good': {word_to_index['good']}\")\n",
    "print(f\"Index for 'dog': {word_to_index['dog']}\")"
   ]
  },
  {
   "cell_type": "markdown",
   "metadata": {},
   "source": [
    "To actually decode a sequence, we need to map in the opposite direction: from indices to words."
   ]
  },
  {
   "cell_type": "code",
   "execution_count": 17,
   "metadata": {},
   "outputs": [],
   "source": [
    "# Get a dictionary mapping indices to words\n",
    "index_to_word = dict((i, word) for (word, i) in word_to_index.items())"
   ]
  },
  {
   "cell_type": "markdown",
   "metadata": {},
   "source": [
    "Finally, we are ready to examine some of these reviews to get an idea of the task our model must solve."
   ]
  },
  {
   "cell_type": "code",
   "execution_count": 18,
   "metadata": {},
   "outputs": [
    {
     "data": {
      "text/plain": [
       "\"<START> this film was just brilliant casting location scenery story direction everyone's really suited the part they played and you could just imagine being there robert <UNK> is an amazing actor and now the same being director <UNK> father came from the same scottish island as myself so i loved the fact there was a real connection with this film the witty remarks throughout the film were great it was just brilliant so much that i bought the film as soon as it was released for <UNK> and would recommend it to everyone to watch and the fly fishing was amazing really cried at the end it was so sad and you know what they say if you cry at a film it must have been good and this definitely was also <UNK> to the two little boy's that played the <UNK> of norman and paul they were just brilliant children are often left out of the <UNK> list i think because the stars that play them all grown up are such a big profile for the whole film but these children are amazing and should be praised for what they have done don't you think the whole story was so lovely because it was true and was someone's life after all that was shared with us all\""
      ]
     },
     "execution_count": 18,
     "metadata": {},
     "output_type": "execute_result"
    }
   ],
   "source": [
    "def decode_imdb_sequence(example):\n",
    "    return \" \".join(index_to_word[i] for i in example)\n",
    "\n",
    "decode_imdb_sequence(X_train_full[0])"
   ]
  },
  {
   "cell_type": "code",
   "execution_count": 19,
   "metadata": {
    "scrolled": false
   },
   "outputs": [
    {
     "data": {
      "text/plain": [
       "\"<START> begins better than it ends funny that the russian submarine crew <UNK> all other actors it's like those scenes where documentary shots br br spoiler part the message <UNK> was contrary to the whole story it just does not <UNK> br br\""
      ]
     },
     "execution_count": 19,
     "metadata": {},
     "output_type": "execute_result"
    }
   ],
   "source": [
    "decode_imdb_sequence(X_train_full[5])"
   ]
  },
  {
   "cell_type": "markdown",
   "metadata": {},
   "source": [
    "Before using sequences of integers as input to our model, it is appropriate to standardise the sequence length by padding shorter sequences and chopping off the end of very long sequences, which allows us to convert our input to a multidimensional numpy array. Keras provides this functionality in a preprocessing library."
   ]
  },
  {
   "cell_type": "code",
   "execution_count": 20,
   "metadata": {},
   "outputs": [],
   "source": [
    "# Pad/truncate sequences to length of 100\n",
    "X_train_full = keras.preprocessing.sequence.pad_sequences(X_train_full, maxlen=100)\n",
    "X_test = keras.preprocessing.sequence.pad_sequences(X_test, maxlen=100)"
   ]
  },
  {
   "cell_type": "code",
   "execution_count": 21,
   "metadata": {},
   "outputs": [
    {
     "data": {
      "text/plain": [
       "(25000, 100)"
      ]
     },
     "execution_count": 21,
     "metadata": {},
     "output_type": "execute_result"
    }
   ],
   "source": [
    "X_train_full.shape"
   ]
  },
  {
   "cell_type": "markdown",
   "metadata": {},
   "source": [
    "Data preprocessing can have a huge impact on performance in natural language tasks, and is typically a more involved process than for images with many options beyond what we have used here. For production tasks, it is advisable to tune your text preprocessing just as you would the parameters of your model.\n",
    "\n",
    "### Creating a validation set\n",
    "\n",
    "As usual when dealing with neural networks, it will be helpful to have a validation set."
   ]
  },
  {
   "cell_type": "code",
   "execution_count": 22,
   "metadata": {},
   "outputs": [],
   "source": [
    "# Create validation set from 10% of the training set\n",
    "X_train, X_valid, y_train, y_valid = train_test_split(X_train_full, y_train_full, train_size=0.9)"
   ]
  },
  {
   "cell_type": "markdown",
   "metadata": {},
   "source": [
    "### Defining our LSTM model\n",
    "\n",
    "Recall from the lecture that the idea behind recurrent models is to process inputs sequentially, updating a state vector by applying the same weights to each new input. Vanilla RNNs have problems encoding long sequences: eventually after many updates the gradients can grow very large, and the state vector may not properly encode the information from the earlier inputs.\n",
    "\n",
    "Since we are dealing with long sequences in this dataset, we will utilise a Long Short Term Memory network instead. As we covered in the lecture, this contains a more sophisticated system of 'gates' to update the hidden state vector without neglecting the information from much earlier in the sequence.\n",
    "\n",
    "Implementing recurrent models using Keras' Sequential API couldn't be easier:"
   ]
  },
  {
   "cell_type": "code",
   "execution_count": 23,
   "metadata": {},
   "outputs": [],
   "source": [
    "# Implement a simple, single layer LSTM model\n",
    "model = keras.models.Sequential([\n",
    "    \n",
    "    # Embedding layer maps words to dense vectors\n",
    "    keras.layers.Embedding(NUM_WORDS, 64),\n",
    "    \n",
    "    # LSTM layer with 64 units\n",
    "    keras.layers.LSTM(64),\n",
    "    \n",
    "    # Fully connceted layer performs classification on the LSTM output\n",
    "    keras.layers.Dense(1, activation=\"sigmoid\")\n",
    "])"
   ]
  },
  {
   "cell_type": "code",
   "execution_count": 24,
   "metadata": {
    "scrolled": true
   },
   "outputs": [
    {
     "name": "stdout",
     "output_type": "stream",
     "text": [
      "Model: \"sequential_1\"\n",
      "_________________________________________________________________\n",
      " Layer (type)                Output Shape              Param #   \n",
      "=================================================================\n",
      " embedding (Embedding)       (None, None, 64)          640000    \n",
      "                                                                 \n",
      " lstm (LSTM)                 (None, 64)                33024     \n",
      "                                                                 \n",
      " dense_1 (Dense)             (None, 1)                 65        \n",
      "                                                                 \n",
      "=================================================================\n",
      "Total params: 673,089\n",
      "Trainable params: 673,089\n",
      "Non-trainable params: 0\n",
      "_________________________________________________________________\n"
     ]
    }
   ],
   "source": [
    "model.summary()"
   ]
  },
  {
   "cell_type": "markdown",
   "metadata": {},
   "source": [
    "- ***Embedding layer***\n",
    "\n",
    "Rather than input indices directly to the LSTM, we first map the indices to vectors of size 64 which represent the word. These vectors are called embeddings and achieveing the best embeddings, or ones with particular properties, is a significant focus in Natural Language Processing. Here, we simply delegate this task to a trainable matrix of weights, so the embeddings will be trained along with the other components of our model.\n",
    "\n",
    "- ***LSTM***\n",
    "\n",
    "This is the core of our recurrent model. There are several gates which all have particular roles to play in appropriately processing the sequence. Briefly, a forget gate controls which parts of the long-term state to erase, an input gate controls which parts of the input to add to the long-term state, and an output gate determines which parts of the long-term state should be output at each time step.\n",
    "\n",
    "For a more thorough explanation, you may wish to consult the lecture or one of the course textbooks such as *Aurelien Geron (2019). Hands-on Machine Learning with Scikit-Learn, Keras and TensorFlow, O'Reilly.* Chapter 14, which is available online from the University library.\n",
    "\n",
    "- ***Fully connected classifier***\n",
    "\n",
    "Our final layer processes the LSTM output and produces a single output value, which is passed through a sigmoid function since our task is binary classification into positive and negative review sentiment."
   ]
  },
  {
   "cell_type": "markdown",
   "metadata": {},
   "source": [
    "### Specifying the loss and optimiser\n",
    "We will again use the Adam optimiser to speed up convergence.\n",
    "\n",
    "Our loss function will be ```binary_crossentropy``` since we are doing binary classification. If you like, refer to the documentation [here](https://keras.io/api/losses/probabilistic_losses/#binary_crossentropy-function) to check the expected model outputs and labels."
   ]
  },
  {
   "cell_type": "code",
   "execution_count": 25,
   "metadata": {},
   "outputs": [],
   "source": [
    "# Compile the model, specifying optimsier, loss and metrics\n",
    "model.compile(\"adam\", \"binary_crossentropy\", metrics=[\"accuracy\"])"
   ]
  },
  {
   "cell_type": "markdown",
   "metadata": {},
   "source": [
    "The following training cell may take several minutes to run depending on your hardware. If you're pressed for time, you can just examine the outputs.\n",
    "\n",
    "Can you notice any trend as training progresses?"
   ]
  },
  {
   "cell_type": "code",
   "execution_count": 26,
   "metadata": {
    "scrolled": false
   },
   "outputs": [
    {
     "name": "stdout",
     "output_type": "stream",
     "text": [
      "Epoch 1/3\n",
      "704/704 [==============================] - 37s 51ms/step - loss: 0.4238 - accuracy: 0.8016 - val_loss: 0.3542 - val_accuracy: 0.8548\n",
      "Epoch 2/3\n",
      "704/704 [==============================] - 40s 57ms/step - loss: 0.2569 - accuracy: 0.8984 - val_loss: 0.3559 - val_accuracy: 0.8428\n",
      "Epoch 3/3\n",
      "704/704 [==============================] - 48s 69ms/step - loss: 0.1800 - accuracy: 0.9312 - val_loss: 0.4338 - val_accuracy: 0.8352\n"
     ]
    },
    {
     "data": {
      "text/plain": [
       "<keras.callbacks.History at 0x298ea7f5988>"
      ]
     },
     "execution_count": 26,
     "metadata": {},
     "output_type": "execute_result"
    }
   ],
   "source": [
    "\"\"\"Running this cell could take several minutes\"\"\"\n",
    "\n",
    "# Train the model for 3 epochs\n",
    "model.fit(X_train, y_train, batch_size=32, epochs=3, validation_data=(X_valid, y_valid))"
   ]
  },
  {
   "cell_type": "markdown",
   "metadata": {},
   "source": [
    "Not all sequential models have a single recurrent layer, and it is easy to stack multiple recurrent layers one after the other. Even making layers which process the sequence in both directions is a breeze in Keras. Creating other types of models is as simple as modifying the layers in the model definition. For example:\n",
    "\n",
    "A two-layer bidirectional LSTM:\n",
    "\n",
    "```model = keras.models.Sequential([\n",
    "    keras.layers.Embedding(NUM_WORDS, 64),\n",
    "    keras.layers.Bidirectional(keras.layers.LSTM(64, return_sequences=True)),\n",
    "    keras.layers.Bidirectional(keras.layers.LSTM(64)),\n",
    "    keras.layers.Dense(1, activation=\"sigmoid\")\n",
    "])```\n",
    "\n",
    "A simple RNN:\n",
    "\n",
    "```model = keras.models.Sequential([\n",
    "    keras.layers.Embedding(NUM_WORDS, 64),\n",
    "    keras.layers.SimpleRNN(64)\n",
    "    keras.layers.Dense(1, activation=\"sigmoid\")\n",
    "])```"
   ]
  },
  {
   "cell_type": "markdown",
   "metadata": {},
   "source": [
    "## 4. Task - Create a CNN for CIFAR-10"
   ]
  },
  {
   "cell_type": "markdown",
   "metadata": {},
   "source": [
    "For today's task, we will introduce another classic image classification dataset called CIFAR-10. The CIFAR-10 dataset contains 600000 32x32 RGB images of 10 classes of common objects. There is an equal number of images from each class, and a 50000/10000 train/test split.\n",
    "\n",
    "Let's load the data using Keras ([documentation](https://keras.io/api/datasets/cifar10/)). Since there is a significant number of images, this may take a minute."
   ]
  },
  {
   "cell_type": "code",
   "execution_count": 27,
   "metadata": {},
   "outputs": [],
   "source": [
    "# Load CIFAR 10 dataset\n",
    "(X_train_full, y_train_full), (X_test, y_test) = keras.datasets.cifar10.load_data()"
   ]
  },
  {
   "cell_type": "code",
   "execution_count": 28,
   "metadata": {},
   "outputs": [],
   "source": [
    "# Scale the data to the range 0-1\n",
    "X_train_full = X_train_full / 255.\n",
    "X_test = X_test / 255.\n",
    "\n",
    "# Create validation set from the training set\n",
    "X_train, X_valid, y_train, y_valid = train_test_split(X_train_full, y_train_full, train_size=0.9)"
   ]
  },
  {
   "cell_type": "markdown",
   "metadata": {},
   "source": [
    "Note there are 3 colour channels for each pixel, corresponding to the red, green, and blue values:"
   ]
  },
  {
   "cell_type": "code",
   "execution_count": 29,
   "metadata": {},
   "outputs": [
    {
     "data": {
      "text/plain": [
       "(45000, 32, 32, 3)"
      ]
     },
     "execution_count": 29,
     "metadata": {},
     "output_type": "execute_result"
    }
   ],
   "source": [
    "X_train.shape"
   ]
  },
  {
   "cell_type": "markdown",
   "metadata": {},
   "source": [
    "Let's take a look at some examples from the dataset. Can you spot what some of the classes might be?"
   ]
  },
  {
   "cell_type": "code",
   "execution_count": 30,
   "metadata": {
    "scrolled": true
   },
   "outputs": [
    {
     "data": {
      "image/png": "[encoded data removed]",
      "text/plain": [
       "<Figure size 864x345.6 with 40 Axes>"
      ]
     },
     "metadata": {
      "needs_background": "light"
     },
     "output_type": "display_data"
    }
   ],
   "source": [
    "plot_examples(X_train)"
   ]
  },
  {
   "cell_type": "markdown",
   "metadata": {},
   "source": [
    "You can check out a description of the dataset from its creators [here](https://www.cs.toronto.edu/~kriz/cifar.html). Using this, we can get an ordered list of the labels, which you may find useful to check your model's predictions."
   ]
  },
  {
   "cell_type": "code",
   "execution_count": 31,
   "metadata": {},
   "outputs": [],
   "source": [
    "cifar10_labels = [\"airplane\", \"automobile\", \"bird\", \"cat\", \"deer\", \"dog\", \"frog\", \"horse\", \"ship\", \"truck\"]"
   ]
  },
  {
   "cell_type": "markdown",
   "metadata": {},
   "source": [
    "### Task\n",
    "Define, train and evaluate a CNN for the CIFAR10 problem. \n",
    "\n",
    "You can inspire your solution from the simple CNN we have already used for MNIST, or, if you are feeling ambitious, feel free to define a deeper CNN which you could base on one of the well-known architectures mentioned above ([AlexNet](https://papers.nips.cc/paper/4824-imagenet-classification-with-deep-convolutional-neural-networks.pdf), [VGG](https://arxiv.org/pdf/1409.1556.pdf), [ResNet](https://arxiv.org/abs/1512.03385)). \n",
    "\n",
    "For those of you who are already more comfortable with Keras and looking to strengthen your skills, an extension would be to chase the best performance possible by importing a pretrained Keras model from ```keras.applications``` ([documentation](https://keras.io/api/applications/)) and modifying it for the CIFAR10 task.\n",
    "\n",
    "A note on training time: a small CNN like the one we used for MNIST above will take about 30 seconds per epoch to train on modest, non-GPU hardware. If you are itching to try out deeper models and don't have GPU access, you can try uploading this notebook to [Google Colaboratory](https://colab.research.google.com) and change the runtime type to GPU, as mentioned in last week's tutorial. "
   ]
  },
  {
   "cell_type": "markdown",
   "metadata": {},
   "source": [
    "### Solution\n",
    "Following is a simple solution using a similar model architecture as the earlier section. Feel free to be more creative with your solution to achieve a higher accuracy!"
   ]
  },
  {
   "cell_type": "code",
   "execution_count": 32,
   "metadata": {},
   "outputs": [
    {
     "name": "stdout",
     "output_type": "stream",
     "text": [
      "Epoch 1/20\n",
      "352/352 [==============================] - 27s 75ms/step - loss: 1.7249 - accuracy: 0.3817 - val_loss: 1.4439 - val_accuracy: 0.4953\n",
      "Epoch 2/20\n",
      "352/352 [==============================] - 28s 80ms/step - loss: 1.4003 - accuracy: 0.5042 - val_loss: 1.2828 - val_accuracy: 0.5537\n",
      "Epoch 3/20\n",
      "352/352 [==============================] - 34s 96ms/step - loss: 1.2820 - accuracy: 0.5501 - val_loss: 1.1665 - val_accuracy: 0.5982\n",
      "Epoch 4/20\n",
      "352/352 [==============================] - 35s 99ms/step - loss: 1.2123 - accuracy: 0.5747 - val_loss: 1.1116 - val_accuracy: 0.6230\n",
      "Epoch 5/20\n",
      "352/352 [==============================] - 34s 98ms/step - loss: 1.1569 - accuracy: 0.5955 - val_loss: 1.0692 - val_accuracy: 0.6381\n",
      "Epoch 6/20\n",
      "352/352 [==============================] - 29s 83ms/step - loss: 1.1126 - accuracy: 0.6131 - val_loss: 1.0833 - val_accuracy: 0.6323\n",
      "Epoch 7/20\n",
      "352/352 [==============================] - 32s 90ms/step - loss: 1.0748 - accuracy: 0.6265 - val_loss: 1.0307 - val_accuracy: 0.6564\n",
      "Epoch 8/20\n",
      "352/352 [==============================] - 35s 99ms/step - loss: 1.0497 - accuracy: 0.6370 - val_loss: 0.9965 - val_accuracy: 0.6589\n",
      "Epoch 9/20\n",
      "352/352 [==============================] - 35s 99ms/step - loss: 1.0260 - accuracy: 0.6458 - val_loss: 0.9587 - val_accuracy: 0.6811\n",
      "Epoch 10/20\n",
      "352/352 [==============================] - 31s 88ms/step - loss: 1.0070 - accuracy: 0.6499 - val_loss: 0.9560 - val_accuracy: 0.6793\n",
      "Epoch 11/20\n",
      "352/352 [==============================] - 28s 79ms/step - loss: 0.9861 - accuracy: 0.6589 - val_loss: 0.9804 - val_accuracy: 0.6613\n",
      "Epoch 12/20\n",
      "352/352 [==============================] - 29s 84ms/step - loss: 0.9703 - accuracy: 0.6650 - val_loss: 0.9301 - val_accuracy: 0.6889\n",
      "Epoch 13/20\n",
      "352/352 [==============================] - 43s 121ms/step - loss: 0.9601 - accuracy: 0.6664 - val_loss: 0.9099 - val_accuracy: 0.6930\n",
      "Epoch 14/20\n",
      "352/352 [==============================] - 40s 112ms/step - loss: 0.9469 - accuracy: 0.6744 - val_loss: 0.8912 - val_accuracy: 0.7027\n",
      "Epoch 15/20\n",
      "352/352 [==============================] - 33s 94ms/step - loss: 0.9301 - accuracy: 0.6783 - val_loss: 0.9095 - val_accuracy: 0.6914\n",
      "Epoch 16/20\n",
      "352/352 [==============================] - 31s 89ms/step - loss: 0.9256 - accuracy: 0.6801 - val_loss: 0.8831 - val_accuracy: 0.6981\n",
      "Epoch 17/20\n",
      "352/352 [==============================] - 27s 76ms/step - loss: 0.9068 - accuracy: 0.6864 - val_loss: 0.8703 - val_accuracy: 0.7061\n",
      "Epoch 18/20\n",
      "352/352 [==============================] - 29s 82ms/step - loss: 0.8938 - accuracy: 0.6904 - val_loss: 0.8824 - val_accuracy: 0.6996\n",
      "Epoch 19/20\n",
      "352/352 [==============================] - 35s 100ms/step - loss: 0.8811 - accuracy: 0.6946 - val_loss: 0.8672 - val_accuracy: 0.7031\n",
      "Epoch 20/20\n",
      "352/352 [==============================] - 34s 96ms/step - loss: 0.8762 - accuracy: 0.6967 - val_loss: 0.8466 - val_accuracy: 0.7125\n"
     ]
    }
   ],
   "source": [
    "model = keras.Sequential([\n",
    "    keras.Input(shape=(32, 32, 3)),\n",
    "    keras.layers.Conv2D(32, kernel_size=(3, 3), activation=\"relu\"),\n",
    "    keras.layers.MaxPooling2D(pool_size=(2, 2)),\n",
    "    keras.layers.Conv2D(64, kernel_size=(3, 3), activation=\"relu\"),\n",
    "    keras.layers.MaxPooling2D(pool_size=(2, 2)),\n",
    "    keras.layers.Flatten(),\n",
    "    keras.layers.Dropout(0.5),\n",
    "    keras.layers.Dense(10, activation=\"softmax\"),\n",
    "])\n",
    "\n",
    "# Compile model with loss, optimiser, and metrics\n",
    "model.compile(loss='sparse_categorical_crossentropy',\n",
    "              optimizer=\"adam\",\n",
    "              metrics=['accuracy'])\n",
    "\n",
    "# Train the model for 20 epochs with batch size 128\n",
    "batch_size = 128\n",
    "epochs = 20\n",
    "history = model.fit(X_train, y_train, batch_size=batch_size,\n",
    "                    epochs=epochs, validation_data=(X_test, y_test))"
   ]
  },
  {
   "cell_type": "markdown",
   "metadata": {},
   "source": [
    "## 5. Summary\n",
    "\n",
    "Today has provided a simple introduction into the rich and complex world of CNNs and RNNs, which have become immensely popular in recent years. CNNs and RNNs can also be used for a wide variety of image and sequence-based tasks, including image segmentation, language generation, and machine translation, just to name a few.   "
   ]
  },
  {
   "cell_type": "code",
   "execution_count": null,
   "metadata": {},
   "outputs": [],
   "source": [
    "# CNN summary\n",
    "model = keras.Sequential([\n",
    "    keras.Input(shape=(28, 28, 1)),\n",
    "    keras.layers.Conv2D(32, kernel_size=(3, 3), activation=\"relu\"),\n",
    "    keras.layers.MaxPooling2D(pool_size=(2, 2)),\n",
    "    keras.layers.Conv2D(64, kernel_size=(3, 3), activation=\"relu\"),\n",
    "    keras.layers.MaxPooling2D(pool_size=(2, 2)),\n",
    "    keras.layers.Flatten(),\n",
    "    keras.layers.Dropout(0.5),\n",
    "    keras.layers.Dense(10, activation=\"softmax\"),\n",
    "])\n",
    "\n",
    "model.compile(loss='sparse_categorical_crossentropy',\n",
    "              optimizer=\"adam\",\n",
    "              metrics=['accuracy'])\n",
    "\n",
    "history = model.fit(train_generator, batch_size=batch_size,\n",
    "                    epochs=epochs, validation_data=(X_valid, y_valid))\n",
    "\n",
    "# RNN/LSTM summary\n",
    "model = keras.models.Sequential([\n",
    "    keras.layers.Embedding(NUM_WORDS, 64),\n",
    "    keras.layers.LSTM(64),\n",
    "    keras.layers.Dense(1, activation=\"sigmoid\")\n",
    "])\n",
    "\n",
    "model.compile(\"adam\", \"binary_crossentropy\", metrics=[\"accuracy\"])\n",
    "\n",
    "model.fit(X_train, y_train, batch_size=32, epochs=3, validation_data=(X_valid, y_valid))"
   ]
  },
  {
   "cell_type": "markdown",
   "metadata": {},
   "source": [
    "## Acknowledgements\n",
    "\n",
    "This tutorial is based on:\n",
    "\n",
    "Aurelien Geron (2022). Hands-on Machine Learning with Scikit-Learn, Keras and TensorFlow, O'Reilly.\n",
    "\n",
    "François Chollet (2021). Simple MNIST convnet, Keras code examples https://keras.io/examples/vision/mnist_convnet/ [web]"
   ]
  }
 ],
 "metadata": {
  "kernelspec": {
   "display_name": "Python 3",
   "language": "python",
   "name": "python3"
  },
  "language_info": {
   "codemirror_mode": {
    "name": "ipython",
    "version": 3
   },
   "file_extension": ".py",
   "mimetype": "text/x-python",
   "name": "python",
   "nbconvert_exporter": "python",
   "pygments_lexer": "ipython3",
   "version": "3.7.4"
  }
 },
 "nbformat": 4,
 "nbformat_minor": 5
}
