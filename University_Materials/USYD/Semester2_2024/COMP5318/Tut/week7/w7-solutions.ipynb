{
 "cells": [
  {
   "cell_type": "markdown",
   "metadata": {
    "id": "7d95183f"
   },
   "source": [
    "# COMP5318/COMP4318 Week 7: Introduction to Keras and Multilayer Perceptrons"
   ]
  },
  {
   "cell_type": "markdown",
   "metadata": {
    "id": "c2361070"
   },
   "source": [
    "Though an old idea, interest in Artificial Neural Networks has dramatically increased in recent times alongside an increase in available training data and computing power. Research has spawned a multitude of different network types and improvements which build on the ideas of the multilayer perceptron, and neural networks currently exhibit the best performance on many problems. The attraction is clear: neural networks are versatile and very powerful, with the ability to approximate any possible mapping of inputs to outputs given a sufficient number of neurons. \n",
    "\n",
    "However, despite their popularity, NNs are not always the most appropriate solution to every problem. They have limited interpretability (contrary to algorithms such as decision trees), are prone to overfitting due to their high complexity and number of parameters, can be difficult to design and tune hyperparameters (as we will see in today's lab), and can have very long runtimes if we utilise large networks. Like any powerful tool, their use should be carefully considered before deployment. \n",
    "\n",
    "In this lab, we will introduce you to the implementation of multilayer percepton (MLP) networks using the Keras library and explore the hyperparameters of multilayer perceptrons."
   ]
  },
  {
   "cell_type": "markdown",
   "metadata": {
    "id": "4ee98eeb"
   },
   "source": [
    "## 1. Setup"
   ]
  },
  {
   "cell_type": "markdown",
   "metadata": {
    "id": "e2f33863"
   },
   "source": [
    "We begin by importing commonly used packages and setting up our plotting environment."
   ]
  },
  {
   "cell_type": "code",
   "execution_count": 1,
   "metadata": {
    "id": "53fbbf9f"
   },
   "outputs": [],
   "source": [
    "import sys\n",
    "import numpy as np\n",
    "import pandas as pd\n",
    "import matplotlib.pyplot as plt\n",
    "import sklearn\n",
    "import time\n",
    "\n",
    "# Make the notebook's output stable across runs\n",
    "np.random.seed(42)\n",
    "\n",
    "# Set up inline plotting and figure/axis labels\n",
    "%matplotlib inline\n",
    "import matplotlib as mpl\n",
    "import matplotlib.pyplot as plt\n",
    "mpl.rc('axes', labelsize=14)\n",
    "mpl.rc('xtick', labelsize=12)\n",
    "mpl.rc('ytick', labelsize=12)"
   ]
  },
  {
   "cell_type": "markdown",
   "metadata": {
    "id": "36737db1"
   },
   "source": [
    "## 2. Keras: A Simple Deep Learning API"
   ]
  },
  {
   "cell_type": "markdown",
   "metadata": {
    "id": "7e543737"
   },
   "source": [
    "So far in the course, we have implemented various algorithms using the sklearn library. Today, we would like to introduce **Keras** as the core deep learning library we will use in the course. \n",
    "\n",
    "[Keras](https://keras.io) is very flexible and feature-rich, but in large part retains the simplicity of sklearn (and even shares some of its syntax). Technically, it is an easy-to-use frontend which typically relies on the [TensorFlow](https://www.tensorflow.org) library to handle the matrix-heavy computations underlying neural networks. TensorFlow and similar libraries such as [PyTorch](https://pytorch.org) also have the ability to run computations on GPU hardware, which can drastically decrease runtimes by exploiting their many cores for parallel calculations.\n",
    "\n",
    "Let's now handle the setup of Keras and TensorFlow."
   ]
  },
  {
   "cell_type": "markdown",
   "metadata": {
    "id": "bc4d0d60"
   },
   "source": [
    "### Installing TensorFlow and Keras\n",
    "\n",
    "If tensorflow is not already installed on your system, you can utilise pip (the python package installer) to easily download and install the package. This command will also take care of the Keras installation."
   ]
  },
  {
   "cell_type": "code",
   "execution_count": 2,
   "metadata": {
    "id": "87d35c86"
   },
   "outputs": [
    {
     "name": "stdout",
     "output_type": "stream",
     "text": [
      "Requirement already up-to-date: tensorflow==2.7.0 in c:\\users\\irena\\anaconda3\\lib\\site-packages (2.7.0)\n",
      "Requirement already satisfied, skipping upgrade: opt-einsum>=2.3.2 in c:\\users\\irena\\anaconda3\\lib\\site-packages (from tensorflow==2.7.0) (3.3.0)\n",
      "Requirement already satisfied, skipping upgrade: absl-py>=0.4.0 in c:\\users\\irena\\anaconda3\\lib\\site-packages (from tensorflow==2.7.0) (1.0.0)\n",
      "Requirement already satisfied, skipping upgrade: astunparse>=1.6.0 in c:\\users\\irena\\anaconda3\\lib\\site-packages (from tensorflow==2.7.0) (1.6.3)\n",
      "Requirement already satisfied, skipping upgrade: tensorflow-estimator<2.8,~=2.7.0rc0 in c:\\users\\irena\\anaconda3\\lib\\site-packages (from tensorflow==2.7.0) (2.7.0)\n",
      "Requirement already satisfied, skipping upgrade: grpcio<2.0,>=1.24.3 in c:\\users\\irena\\anaconda3\\lib\\site-packages (from tensorflow==2.7.0) (1.43.0)\n",
      "Requirement already satisfied, skipping upgrade: tensorboard~=2.6 in c:\\users\\irena\\anaconda3\\lib\\site-packages (from tensorflow==2.7.0) (2.7.0)\n",
      "Requirement already satisfied, skipping upgrade: protobuf>=3.9.2 in c:\\users\\irena\\anaconda3\\lib\\site-packages (from tensorflow==2.7.0) (3.19.3)\n",
      "Requirement already satisfied, skipping upgrade: google-pasta>=0.1.1 in c:\\users\\irena\\anaconda3\\lib\\site-packages (from tensorflow==2.7.0) (0.2.0)\n",
      "Requirement already satisfied, skipping upgrade: typing-extensions>=3.6.6 in c:\\users\\irena\\anaconda3\\lib\\site-packages (from tensorflow==2.7.0) (4.0.1)\n",
      "Requirement already satisfied, skipping upgrade: keras<2.8,>=2.7.0rc0 in c:\\users\\irena\\anaconda3\\lib\\site-packages (from tensorflow==2.7.0) (2.7.0)\n",
      "Requirement already satisfied, skipping upgrade: wheel<1.0,>=0.32.0 in c:\\users\\irena\\anaconda3\\lib\\site-packages (from tensorflow==2.7.0) (0.33.6)\n",
      "Requirement already satisfied, skipping upgrade: keras-preprocessing>=1.1.1 in c:\\users\\irena\\anaconda3\\lib\\site-packages (from tensorflow==2.7.0) (1.1.2)\n",
      "Requirement already satisfied, skipping upgrade: tensorflow-io-gcs-filesystem>=0.21.0 in c:\\users\\irena\\anaconda3\\lib\\site-packages (from tensorflow==2.7.0) (0.23.1)\n",
      "Requirement already satisfied, skipping upgrade: wrapt>=1.11.0 in c:\\users\\irena\\anaconda3\\lib\\site-packages (from tensorflow==2.7.0) (1.11.2)\n",
      "Requirement already satisfied, skipping upgrade: h5py>=2.9.0 in c:\\users\\irena\\anaconda3\\lib\\site-packages (from tensorflow==2.7.0) (2.9.0)\n",
      "Requirement already satisfied, skipping upgrade: gast<0.5.0,>=0.2.1 in c:\\users\\irena\\anaconda3\\lib\\site-packages (from tensorflow==2.7.0) (0.4.0)\n",
      "Requirement already satisfied, skipping upgrade: numpy>=1.14.5 in c:\\users\\irena\\anaconda3\\lib\\site-packages (from tensorflow==2.7.0) (1.16.5)\n",
      "Requirement already satisfied, skipping upgrade: libclang>=9.0.1 in c:\\users\\irena\\anaconda3\\lib\\site-packages (from tensorflow==2.7.0) (12.0.0)\n",
      "Requirement already satisfied, skipping upgrade: termcolor>=1.1.0 in c:\\users\\irena\\anaconda3\\lib\\site-packages (from tensorflow==2.7.0) (1.1.0)\n",
      "Requirement already satisfied, skipping upgrade: six>=1.12.0 in c:\\users\\irena\\anaconda3\\lib\\site-packages (from tensorflow==2.7.0) (1.12.0)\n",
      "Requirement already satisfied, skipping upgrade: flatbuffers<3.0,>=1.12 in c:\\users\\irena\\anaconda3\\lib\\site-packages (from tensorflow==2.7.0) (2.0)\n",
      "Requirement already satisfied, skipping upgrade: werkzeug>=0.11.15 in c:\\users\\irena\\anaconda3\\lib\\site-packages (from tensorboard~=2.6->tensorflow==2.7.0) (0.16.0)\n",
      "Requirement already satisfied, skipping upgrade: tensorboard-data-server<0.7.0,>=0.6.0 in c:\\users\\irena\\anaconda3\\lib\\site-packages (from tensorboard~=2.6->tensorflow==2.7.0) (0.6.1)\n",
      "Requirement already satisfied, skipping upgrade: requests<3,>=2.21.0 in c:\\users\\irena\\anaconda3\\lib\\site-packages (from tensorboard~=2.6->tensorflow==2.7.0) (2.22.0)\n",
      "Requirement already satisfied, skipping upgrade: setuptools>=41.0.0 in c:\\users\\irena\\anaconda3\\lib\\site-packages (from tensorboard~=2.6->tensorflow==2.7.0) (41.4.0)\n",
      "Requirement already satisfied, skipping upgrade: google-auth<3,>=1.6.3 in c:\\users\\irena\\anaconda3\\lib\\site-packages (from tensorboard~=2.6->tensorflow==2.7.0) (2.3.3)\n",
      "Requirement already satisfied, skipping upgrade: google-auth-oauthlib<0.5,>=0.4.1 in c:\\users\\irena\\anaconda3\\lib\\site-packages (from tensorboard~=2.6->tensorflow==2.7.0) (0.4.6)\n",
      "Requirement already satisfied, skipping upgrade: tensorboard-plugin-wit>=1.6.0 in c:\\users\\irena\\anaconda3\\lib\\site-packages (from tensorboard~=2.6->tensorflow==2.7.0) (1.8.1)\n",
      "Requirement already satisfied, skipping upgrade: markdown>=2.6.8 in c:\\users\\irena\\anaconda3\\lib\\site-packages (from tensorboard~=2.6->tensorflow==2.7.0) (3.3.6)\n",
      "Requirement already satisfied, skipping upgrade: chardet<3.1.0,>=3.0.2 in c:\\users\\irena\\anaconda3\\lib\\site-packages (from requests<3,>=2.21.0->tensorboard~=2.6->tensorflow==2.7.0) (3.0.4)\n",
      "Requirement already satisfied, skipping upgrade: idna<2.9,>=2.5 in c:\\users\\irena\\anaconda3\\lib\\site-packages (from requests<3,>=2.21.0->tensorboard~=2.6->tensorflow==2.7.0) (2.8)\n",
      "Requirement already satisfied, skipping upgrade: urllib3!=1.25.0,!=1.25.1,<1.26,>=1.21.1 in c:\\users\\irena\\anaconda3\\lib\\site-packages (from requests<3,>=2.21.0->tensorboard~=2.6->tensorflow==2.7.0) (1.24.2)\n",
      "Requirement already satisfied, skipping upgrade: certifi>=2017.4.17 in c:\\users\\irena\\anaconda3\\lib\\site-packages (from requests<3,>=2.21.0->tensorboard~=2.6->tensorflow==2.7.0) (2019.9.11)\n",
      "Requirement already satisfied, skipping upgrade: rsa<5,>=3.1.4; python_version >= \"3.6\" in c:\\users\\irena\\anaconda3\\lib\\site-packages (from google-auth<3,>=1.6.3->tensorboard~=2.6->tensorflow==2.7.0) (4.8)\n",
      "Requirement already satisfied, skipping upgrade: pyasn1-modules>=0.2.1 in c:\\users\\irena\\anaconda3\\lib\\site-packages (from google-auth<3,>=1.6.3->tensorboard~=2.6->tensorflow==2.7.0) (0.2.8)\n",
      "Requirement already satisfied, skipping upgrade: cachetools<5.0,>=2.0.0 in c:\\users\\irena\\anaconda3\\lib\\site-packages (from google-auth<3,>=1.6.3->tensorboard~=2.6->tensorflow==2.7.0) (4.2.4)\n",
      "Requirement already satisfied, skipping upgrade: requests-oauthlib>=0.7.0 in c:\\users\\irena\\anaconda3\\lib\\site-packages (from google-auth-oauthlib<0.5,>=0.4.1->tensorboard~=2.6->tensorflow==2.7.0) (1.3.0)\n",
      "Requirement already satisfied, skipping upgrade: importlib-metadata>=4.4; python_version < \"3.10\" in c:\\users\\irena\\anaconda3\\lib\\site-packages (from markdown>=2.6.8->tensorboard~=2.6->tensorflow==2.7.0) (4.12.0)\n",
      "Requirement already satisfied, skipping upgrade: pyasn1>=0.1.3 in c:\\users\\irena\\anaconda3\\lib\\site-packages (from rsa<5,>=3.1.4; python_version >= \"3.6\"->google-auth<3,>=1.6.3->tensorboard~=2.6->tensorflow==2.7.0) (0.4.8)\n",
      "Requirement already satisfied, skipping upgrade: oauthlib>=3.0.0 in c:\\users\\irena\\anaconda3\\lib\\site-packages (from requests-oauthlib>=0.7.0->google-auth-oauthlib<0.5,>=0.4.1->tensorboard~=2.6->tensorflow==2.7.0) (3.1.1)\n",
      "Requirement already satisfied, skipping upgrade: zipp>=0.5 in c:\\users\\irena\\anaconda3\\lib\\site-packages (from importlib-metadata>=4.4; python_version < \"3.10\"->markdown>=2.6.8->tensorboard~=2.6->tensorflow==2.7.0) (0.6.0)\n",
      "Requirement already satisfied, skipping upgrade: more-itertools in c:\\users\\irena\\anaconda3\\lib\\site-packages (from zipp>=0.5->importlib-metadata>=4.4; python_version < \"3.10\"->markdown>=2.6.8->tensorboard~=2.6->tensorflow==2.7.0) (7.2.0)\n"
     ]
    }
   ],
   "source": [
    "# Run this cell to install tensorflow in the same python install as the kernel\n",
    "!{sys.executable} -m pip install -U tensorflow==2.7.0"
   ]
  },
  {
   "cell_type": "markdown",
   "metadata": {
    "id": "257caf46"
   },
   "source": [
    "For these tutorials, we will not require a GPU. However, in case you wish to experiment with larger neural networks and thus desire GPU support, please note that the installation process will be more involved, and you will need to install extra libraries such as CUDA. This [installation guide](https://www.tensorflow.org/install/gpu) may be a useful reference. Another option for GPU support is to utilise preconfigured cloud instances (many different providers - usually paid), or an online GPU python notebook service such as [Google Colaboratory](https://colab.research.google.com) (free and paid tiers).\n",
    "\n",
    "While we are in the process of setting things up, we will also install the [SciKeras](https://github.com/adriangb/scikeras) library, which can make our Keras models directly compatible with sklearn grid searches, ensembles, and other functionality with which we are already familiar."
   ]
  },
  {
   "cell_type": "code",
   "execution_count": 3,
   "metadata": {
    "id": "56e25637"
   },
   "outputs": [
    {
     "name": "stdout",
     "output_type": "stream",
     "text": [
      "Requirement already up-to-date: scikeras in c:\\users\\irena\\anaconda3\\lib\\site-packages (0.10.0)\n",
      "Requirement already satisfied, skipping upgrade: packaging>=0.21 in c:\\users\\irena\\anaconda3\\lib\\site-packages (from scikeras) (19.2)\n",
      "Requirement already satisfied, skipping upgrade: importlib-metadata>=3; python_version < \"3.8\" in c:\\users\\irena\\anaconda3\\lib\\site-packages (from scikeras) (4.12.0)\n",
      "Requirement already satisfied, skipping upgrade: scikit-learn>=1.0.0 in c:\\users\\irena\\anaconda3\\lib\\site-packages (from scikeras) (1.0.2)\n",
      "Requirement already satisfied, skipping upgrade: six in c:\\users\\irena\\anaconda3\\lib\\site-packages (from packaging>=0.21->scikeras) (1.12.0)\n",
      "Requirement already satisfied, skipping upgrade: pyparsing>=2.0.2 in c:\\users\\irena\\anaconda3\\lib\\site-packages (from packaging>=0.21->scikeras) (2.4.2)\n",
      "Requirement already satisfied, skipping upgrade: typing-extensions>=3.6.4; python_version < \"3.8\" in c:\\users\\irena\\anaconda3\\lib\\site-packages (from importlib-metadata>=3; python_version < \"3.8\"->scikeras) (4.0.1)\n",
      "Requirement already satisfied, skipping upgrade: zipp>=0.5 in c:\\users\\irena\\anaconda3\\lib\\site-packages (from importlib-metadata>=3; python_version < \"3.8\"->scikeras) (0.6.0)\n",
      "Requirement already satisfied, skipping upgrade: scipy>=1.1.0 in c:\\users\\irena\\anaconda3\\lib\\site-packages (from scikit-learn>=1.0.0->scikeras) (1.3.1)\n",
      "Requirement already satisfied, skipping upgrade: joblib>=0.11 in c:\\users\\irena\\anaconda3\\lib\\site-packages (from scikit-learn>=1.0.0->scikeras) (0.13.2)\n",
      "Requirement already satisfied, skipping upgrade: numpy>=1.14.6 in c:\\users\\irena\\anaconda3\\lib\\site-packages (from scikit-learn>=1.0.0->scikeras) (1.16.5)\n",
      "Requirement already satisfied, skipping upgrade: threadpoolctl>=2.0.0 in c:\\users\\irena\\anaconda3\\lib\\site-packages (from scikit-learn>=1.0.0->scikeras) (3.0.0)\n",
      "Requirement already satisfied, skipping upgrade: more-itertools in c:\\users\\irena\\anaconda3\\lib\\site-packages (from zipp>=0.5->importlib-metadata>=3; python_version < \"3.8\"->scikeras) (7.2.0)\n"
     ]
    }
   ],
   "source": [
    "!{sys.executable} -m pip install -U scikeras"
   ]
  },
  {
   "cell_type": "markdown",
   "metadata": {
    "id": "f31e36c3"
   },
   "source": [
    "With the installation handled, we can now proceed to import tensorflow and keras."
   ]
  },
  {
   "cell_type": "code",
   "execution_count": 4,
   "metadata": {
    "id": "1d8d8143"
   },
   "outputs": [],
   "source": [
    "import tensorflow as tf\n",
    "from tensorflow import keras\n",
    "\n",
    "# Ensure stability across runs\n",
    "keras.backend.clear_session()\n",
    "tf.random.set_seed(42)"
   ]
  },
  {
   "cell_type": "markdown",
   "metadata": {
    "id": "fa4539ae"
   },
   "source": [
    "## 3. Building an MLP Image Classifier"
   ]
  },
  {
   "cell_type": "markdown",
   "metadata": {
    "id": "1ca2d6e2"
   },
   "source": [
    "To introduce you to defining and using MLP models in the Keras library, we will build an image classifier. Image classification is a popular application of neural networks, and one in which performance often greatly exceeds that of the traditional ML models we have covered so far due to the complex mapping required from pixel inputs to classes.\n",
    "\n",
    "Let's begin by loading our dataset, inspecting it, and performing any required preprocessing. It is important to begin with this step as it will influence how we wish to design the network. For example, it will determine how we need to encode the outputs, and the difficulty of the task will roughly guide us on a reasonable initial size for the network."
   ]
  },
  {
   "cell_type": "markdown",
   "metadata": {
    "id": "1bc99a5c"
   },
   "source": [
    "### Data loading, exploration and preprocessing\n",
    "\n",
    "You may recall the MNIST dataset from the PCA task at the end of last week's tutorial.\n",
    "\n",
    "The [MNIST](http://yann.lecun.com/exdb/mnist/) dataset of handwritten digit images is frequently used by machine learning tutorials and developers who wish to prototype their models before deploying to other datasets. It is widely available and, morevoer, the task is simple and the images are low dimensional, which is important for training and testing models/ideas out quickly.\n",
    "\n",
    "Keras provides a convenience module ```keras.datasets``` ([documentation](https://keras.io/api/datasets/)) to quickly load several of these 'prototyping' datasets, including MNIST. Let's load the data now.\n",
    "\n"
   ]
  },
  {
   "cell_type": "code",
   "execution_count": 5,
   "metadata": {
    "id": "1ee0e77d"
   },
   "outputs": [],
   "source": [
    "# Load the MNIST data\n",
    "(X_train_full, y_train_full), (X_test, y_test) = keras.datasets.mnist.load_data()"
   ]
  },
  {
   "cell_type": "markdown",
   "metadata": {
    "id": "2231979a"
   },
   "source": [
    "The data comes already split into a train and test set. To find the number of samples in each set, we can examine the shape of the data arrays."
   ]
  },
  {
   "cell_type": "code",
   "execution_count": 6,
   "metadata": {
    "colab": {
     "base_uri": "https://localhost:8080/"
    },
    "id": "d200a1e9",
    "outputId": "0dd3a1e4-0c73-443d-b3d6-c0b6ac19a016"
   },
   "outputs": [
    {
     "name": "stdout",
     "output_type": "stream",
     "text": [
      "Shape of X_train_full: (60000, 28, 28)\n",
      "Shape of y_train_full: (60000,)\n",
      "Shape of X_test: (10000, 28, 28)\n",
      "Shape of y_test: (10000,)\n"
     ]
    }
   ],
   "source": [
    "print(f\"Shape of X_train_full: {X_train_full.shape}\")\n",
    "print(f\"Shape of y_train_full: {y_train_full.shape}\")\n",
    "print(f\"Shape of X_test: {X_test.shape}\")\n",
    "print(f\"Shape of y_test: {y_test.shape}\")"
   ]
  },
  {
   "cell_type": "markdown",
   "metadata": {
    "id": "aa115fe5"
   },
   "source": [
    "We have a training set of 60000 examples and a test set of 10000 examples. From this output we can also deduce that the images are represented as a 28x28 grid, meaning after flattening there will be $28*28=784$ input features for our network. The MNIST images are black and white, since there is only one value per pixel (rather than 3 channels for an RGB image)."
   ]
  },
  {
   "cell_type": "markdown",
   "metadata": {
    "id": "9c855a3d"
   },
   "source": [
    "Looking at the data type informs us that each pixel intensity is represented as a byte (```uint8```), which can take values from 0 to 255."
   ]
  },
  {
   "cell_type": "code",
   "execution_count": 7,
   "metadata": {
    "colab": {
     "base_uri": "https://localhost:8080/"
    },
    "id": "90d86fd8",
    "outputId": "c570b383-75af-40eb-d474-14634416927e"
   },
   "outputs": [
    {
     "data": {
      "text/plain": [
       "dtype('uint8')"
      ]
     },
     "execution_count": 7,
     "metadata": {},
     "output_type": "execute_result"
    }
   ],
   "source": [
    "X_train_full.dtype"
   ]
  },
  {
   "cell_type": "markdown",
   "metadata": {
    "id": "6d87b7a0"
   },
   "source": [
    "Without delving into too much detail, it is often a good idea to normalise or scale the input features to a 0-1 range. Most weight initialisation methods make such assumptions, and large inputs can cause gradients very close to 0 after passing the neuron output through an activation function, hindering your training process.\n",
    "\n",
    "Let's simply divide the pixel values by 255, converting them to floats in the process."
   ]
  },
  {
   "cell_type": "code",
   "execution_count": 8,
   "metadata": {
    "id": "a9f3b65f"
   },
   "outputs": [],
   "source": [
    "# Scale the data to the range 0-1\n",
    "X_train_full = X_train_full / 255.\n",
    "X_test = X_test / 255."
   ]
  },
  {
   "cell_type": "markdown",
   "metadata": {
    "id": "2fc59016"
   },
   "source": [
    "We can now visualise some images to better understand the problem our model will aim to solve.\n",
    "\n",
    "The numpy array for one example can be plotted using ```plt.imshow```."
   ]
  },
  {
   "cell_type": "code",
   "execution_count": 9,
   "metadata": {
    "colab": {
     "base_uri": "https://localhost:8080/",
     "height": 0
    },
    "id": "ecdcf9b3",
    "outputId": "18ecbb50-46d5-430f-fb94-7ce1abd9612c"
   },
   "outputs": [
    {
     "data": {
      "image/png": "[encoded data removed]",
      "text/plain": [
       "<Figure size 432x288 with 1 Axes>"
      ]
     },
     "metadata": {
      "needs_background": "light"
     },
     "output_type": "display_data"
    }
   ],
   "source": [
    "plt.imshow(X_train_full[0], cmap=\"binary\")\n",
    "plt.show()"
   ]
  },
  {
   "cell_type": "markdown",
   "metadata": {
    "id": "23752db8"
   },
   "source": [
    "Let's visualise more examples in a grid to get a better idea of their characteristics."
   ]
  },
  {
   "cell_type": "code",
   "execution_count": 10,
   "metadata": {
    "colab": {
     "base_uri": "https://localhost:8080/",
     "height": 0
    },
    "id": "343b1dcc",
    "outputId": "bca1c445-abb8-4c0a-e0ce-7c5f655f52f2"
   },
   "outputs": [
    {
     "data": {
      "image/png": "[encoded data removed]",
      "text/plain": [
       "<Figure size 864x345.6 with 40 Axes>"
      ]
     },
     "metadata": {
      "needs_background": "light"
     },
     "output_type": "display_data"
    }
   ],
   "source": [
    "def plot_examples(data, n_rows=4, n_cols=10):\n",
    "    \"\"\"Plot a grid of MNIST examples of a specified size.\"\"\"\n",
    "    \n",
    "    # Size figure depending on the size of the grid\n",
    "    plt.figure(figsize=(n_cols * 1.2, n_rows * 1.2))\n",
    "    \n",
    "    for row in range(n_rows):\n",
    "        for col in range(n_cols):\n",
    "            \n",
    "            # Get next index of image\n",
    "            index = n_cols * row + col\n",
    "            \n",
    "            # Plot the image at appropriate place in grid\n",
    "            plt.subplot(n_rows, n_cols, index + 1)\n",
    "            plt.imshow(data[index], cmap=\"binary\")\n",
    "            plt.axis('off')\n",
    "            \n",
    "    plt.show()\n",
    "\n",
    "plot_examples(X_train_full)"
   ]
  },
  {
   "cell_type": "markdown",
   "metadata": {
    "id": "e582b58e"
   },
   "source": [
    "We see that the images are size-normalised and centred. The minimal preprocessing required for this dataset is part of its attraction.\n",
    "\n",
    "Finally, we need to examine the class labels as this will determine the output encoding of our network."
   ]
  },
  {
   "cell_type": "code",
   "execution_count": 11,
   "metadata": {
    "colab": {
     "base_uri": "https://localhost:8080/"
    },
    "id": "d74a5c7d",
    "outputId": "ab463c8a-5eac-46eb-aff5-394fc1c6ff55"
   },
   "outputs": [
    {
     "name": "stdout",
     "output_type": "stream",
     "text": [
      "[5 0 4 1 9]\n",
      "[0 1 2 3 4 5 6 7 8 9]\n"
     ]
    }
   ],
   "source": [
    "# Check the format of the label by looking at the first five examples\n",
    "print(y_train_full[0:5])\n",
    "\n",
    "# List all unique labels in the training set\n",
    "print(np.unique(y_train_full))"
   ]
  },
  {
   "cell_type": "markdown",
   "metadata": {
    "id": "a3ab37fe"
   },
   "source": [
    "As expected, we have ten labels corresponding to the different digits. The labels are provided as indices, as opposed to one hot vectors (where 3 would be represented as ```[0001000000]```)."
   ]
  },
  {
   "cell_type": "markdown",
   "metadata": {
    "id": "564b6dde"
   },
   "source": [
    "### Creating a validation set\n",
    "\n",
    "When training and tuning neural networks, having a third data split called the validation set is very useful. During training we will need to determine the appropriate point to stop training to minimise overfitting, however we should not use the test set to do this, as we may bias our training process to this particular test set, and it would no longer be a fair measure of the generalisation ability of the network. Hence, we can use the validation set for this purpose. Additionally, if we wish to tune hyperparameters it is often infeasible to use k-fold cross validation due to its long runtime, so we are sometimes forced to evaluate a single training run using the validation set instead.\n",
    "\n",
    "Let's set aside 10% of the original training data for this purpose using sklearn's ```train_test_split```."
   ]
  },
  {
   "cell_type": "code",
   "execution_count": 12,
   "metadata": {
    "id": "a69839bd"
   },
   "outputs": [],
   "source": [
    "from sklearn.model_selection import train_test_split\n",
    "X_train, X_valid, y_train, y_valid = train_test_split(X_train_full, y_train_full, train_size=0.9)"
   ]
  },
  {
   "cell_type": "markdown",
   "metadata": {
    "id": "4a1825c9"
   },
   "source": [
    "### Defining the model\n",
    "\n",
    "With our data fully prepared, it is now time to design our multilayer perceptron network. Neural network design can be difficult, with infinite possible combinations of hidden layers and numbers of neurons in each. While an MLP with one hidden layer can model any problem with enough neurons, deeper networks with multiple layers often have much higher parameter efficiency, using less weights (and hence less computation) to solve the same problem.\n",
    "\n",
    "Although there are few firm rules, with practice and exposure to neural networks in different contexts, you will develop an intuition for the appropriate starting design for your network's hidden layers depending on your problem and computational constraints. Tuning these design parameters and stopping training early to avoid overfitting can also help allevaite concern over the initial design.\n",
    "\n",
    "Today, we aim to solve a relatively simple task, and importantly, we aim to use a network which we can train and evaluate in a feasible time during today's lab. We have defined the following feedforward network below using Keras' Sequential framework ([documentation](https://keras.io/api/models/)), suitable for models where there is a single stack of layers connected sequentially."
   ]
  },
  {
   "cell_type": "code",
   "execution_count": 13,
   "metadata": {
    "id": "b0cacea2"
   },
   "outputs": [],
   "source": [
    "# Define our MLP layer by layer\n",
    "model = keras.models.Sequential([\n",
    "    keras.layers.Flatten(input_shape=[28, 28]),\n",
    "    keras.layers.Dense(300, activation=\"tanh\"),\n",
    "    keras.layers.Dense(100, activation=\"tanh\"),\n",
    "    keras.layers.Dense(10, activation=\"softmax\")\n",
    "])"
   ]
  },
  {
   "cell_type": "markdown",
   "metadata": {
    "id": "1c826bb6"
   },
   "source": [
    "Note that our first layer simply flattens our input for the next layer. Here, we also define the size of the input, which will determine the number of weights between the input layer and first hidden layer. If you do not specify the input shape, Keras will simply wait until you begin to pass data to the model to actually build it.\n",
    "\n",
    "For our hidden layers, we have utilised the ReLU activation function (different activation functions are discussed below). Each of these dense layers maintains the weight (and bias) matrix for the connections between the neurons and their inputs.\n",
    "\n",
    "The final layer is determined by the nature of our classification problem. We have ten classes, so we require 10 output neurons, and we utilise the softmax function ($\\frac{e^{z_{i}}}{\\sum_{j=1}^{K} e^{z_{j}}}$) to convert the raw outputs of this layer into a probability distribution over the classes. "
   ]
  },
  {
   "cell_type": "markdown",
   "metadata": {
    "id": "d891d7c0"
   },
   "source": [
    "With so many connections between the neurons in each layer, we can end up with a lot of parameters. Let's take a look at our model using ```model.summary()```."
   ]
  },
  {
   "cell_type": "code",
   "execution_count": 14,
   "metadata": {
    "colab": {
     "base_uri": "https://localhost:8080/"
    },
    "id": "140be956",
    "outputId": "6d2dda38-64c5-40b6-cc94-69884d20d614"
   },
   "outputs": [
    {
     "name": "stdout",
     "output_type": "stream",
     "text": [
      "Model: \"sequential\"\n",
      "_________________________________________________________________\n",
      " Layer (type)                Output Shape              Param #   \n",
      "=================================================================\n",
      " flatten (Flatten)           (None, 784)               0         \n",
      "                                                                 \n",
      " dense (Dense)               (None, 300)               235500    \n",
      "                                                                 \n",
      " dense_1 (Dense)             (None, 100)               30100     \n",
      "                                                                 \n",
      " dense_2 (Dense)             (None, 10)                1010      \n",
      "                                                                 \n",
      "=================================================================\n",
      "Total params: 266,610\n",
      "Trainable params: 266,610\n",
      "Non-trainable params: 0\n",
      "_________________________________________________________________\n"
     ]
    }
   ],
   "source": [
    "model.summary()"
   ]
  },
  {
   "cell_type": "markdown",
   "metadata": {
    "id": "879aa3a5"
   },
   "source": [
    "We can also access the model weights directly and inspect them."
   ]
  },
  {
   "cell_type": "code",
   "execution_count": 15,
   "metadata": {
    "id": "fbb5609b"
   },
   "outputs": [],
   "source": [
    "weights, biases = model.layers[1].get_weights()"
   ]
  },
  {
   "cell_type": "code",
   "execution_count": 16,
   "metadata": {
    "colab": {
     "base_uri": "https://localhost:8080/"
    },
    "id": "ee0b9cce",
    "outputId": "50933d8b-ad11-4ec1-c155-1500f4205b56"
   },
   "outputs": [
    {
     "name": "stdout",
     "output_type": "stream",
     "text": [
      "(784, 300)\n",
      "(300,)\n"
     ]
    }
   ],
   "source": [
    "print(weights.shape)\n",
    "print(biases.shape)"
   ]
  },
  {
   "cell_type": "code",
   "execution_count": 17,
   "metadata": {
    "colab": {
     "base_uri": "https://localhost:8080/"
    },
    "id": "4b778230",
    "outputId": "031d911d-310c-46b0-ca9a-b93445c0d0ba"
   },
   "outputs": [
    {
     "data": {
      "text/plain": [
       "array([[ 0.02448617, -0.00877795, -0.02189048, ..., -0.02766046,\n",
       "         0.03859074, -0.06889391],\n",
       "       [ 0.00476504, -0.03105379, -0.0586676 , ...,  0.00602964,\n",
       "        -0.02763776, -0.04165364],\n",
       "       [-0.06189284, -0.06901957,  0.07102345, ..., -0.04238207,\n",
       "         0.07121518, -0.07331658],\n",
       "       ...,\n",
       "       [-0.03048757,  0.02155137, -0.05400612, ..., -0.00113463,\n",
       "         0.00228987,  0.05581069],\n",
       "       [ 0.07061854, -0.06960931,  0.07038955, ..., -0.00384101,\n",
       "         0.00034875,  0.02878492],\n",
       "       [-0.06022581,  0.01577859, -0.02585464, ..., -0.00527829,\n",
       "         0.00272203, -0.06793761]], dtype=float32)"
      ]
     },
     "execution_count": 17,
     "metadata": {},
     "output_type": "execute_result"
    }
   ],
   "source": [
    "weights"
   ]
  },
  {
   "cell_type": "code",
   "execution_count": 18,
   "metadata": {
    "colab": {
     "base_uri": "https://localhost:8080/"
    },
    "id": "13a02edc",
    "outputId": "ed8497fe-8628-4f1c-d3b4-c893d1a2cdfb"
   },
   "outputs": [
    {
     "data": {
      "text/plain": [
       "array([0., 0., 0., 0., 0., 0., 0., 0., 0., 0., 0., 0., 0., 0., 0., 0., 0.,\n",
       "       0., 0., 0., 0., 0., 0., 0., 0., 0., 0., 0., 0., 0., 0., 0., 0., 0.,\n",
       "       0., 0., 0., 0., 0., 0., 0., 0., 0., 0., 0., 0., 0., 0., 0., 0., 0.,\n",
       "       0., 0., 0., 0., 0., 0., 0., 0., 0., 0., 0., 0., 0., 0., 0., 0., 0.,\n",
       "       0., 0., 0., 0., 0., 0., 0., 0., 0., 0., 0., 0., 0., 0., 0., 0., 0.,\n",
       "       0., 0., 0., 0., 0., 0., 0., 0., 0., 0., 0., 0., 0., 0., 0., 0., 0.,\n",
       "       0., 0., 0., 0., 0., 0., 0., 0., 0., 0., 0., 0., 0., 0., 0., 0., 0.,\n",
       "       0., 0., 0., 0., 0., 0., 0., 0., 0., 0., 0., 0., 0., 0., 0., 0., 0.,\n",
       "       0., 0., 0., 0., 0., 0., 0., 0., 0., 0., 0., 0., 0., 0., 0., 0., 0.,\n",
       "       0., 0., 0., 0., 0., 0., 0., 0., 0., 0., 0., 0., 0., 0., 0., 0., 0.,\n",
       "       0., 0., 0., 0., 0., 0., 0., 0., 0., 0., 0., 0., 0., 0., 0., 0., 0.,\n",
       "       0., 0., 0., 0., 0., 0., 0., 0., 0., 0., 0., 0., 0., 0., 0., 0., 0.,\n",
       "       0., 0., 0., 0., 0., 0., 0., 0., 0., 0., 0., 0., 0., 0., 0., 0., 0.,\n",
       "       0., 0., 0., 0., 0., 0., 0., 0., 0., 0., 0., 0., 0., 0., 0., 0., 0.,\n",
       "       0., 0., 0., 0., 0., 0., 0., 0., 0., 0., 0., 0., 0., 0., 0., 0., 0.,\n",
       "       0., 0., 0., 0., 0., 0., 0., 0., 0., 0., 0., 0., 0., 0., 0., 0., 0.,\n",
       "       0., 0., 0., 0., 0., 0., 0., 0., 0., 0., 0., 0., 0., 0., 0., 0., 0.,\n",
       "       0., 0., 0., 0., 0., 0., 0., 0., 0., 0., 0.], dtype=float32)"
      ]
     },
     "execution_count": 18,
     "metadata": {},
     "output_type": "execute_result"
    }
   ],
   "source": [
    "biases"
   ]
  },
  {
   "cell_type": "markdown",
   "metadata": {
    "id": "89db6122"
   },
   "source": [
    "#### Discussion Question\n",
    "\n",
    "Note that the biases are initially zero, but the weights are initialised to small values. What would happen if the weights were also initialised to zero?"
   ]
  },
  {
   "cell_type": "markdown",
   "metadata": {
    "id": "2b825979"
   },
   "source": [
    "#### Solution\n",
    "Geron explains this well in \"Hands-On Machine Learning with Scikit-Learn, Keras, and TensorFlow : Concepts, Tools, and Techniques to Build Intelligent Systems\" (pp 291):\n",
    "\n",
    "\"If you initialize all weights and biases to zero, then all neurons in a given layer will be perfectly identical, and thus backpropagation will affect them in exactly the same way, so they will remain identical. In other words, despite having hundreds of neurons per layer, your model will act as if it had only one neuron per layer: it won’t be too smart. If instead you randomly initialize the weights, you break the symmetry and allow backpropagation to train a diverse team of neurons.\""
   ]
  },
  {
   "cell_type": "markdown",
   "metadata": {
    "id": "3f3c9c77"
   },
   "source": [
    "### Specifying the optimiser and loss function\n",
    "\n",
    "Before we can use our model, we need to specify some important training parameters and 'compile' the model.\n",
    "\n",
    "Here, we will use the basic SGD learning algorithm, with a learning rate of 0.1. Our loss function depends on our problem. For a classification task such as ours, we can score the probability distribution output from the softmax layer of our model against the known labels using Cross Entropy loss. Since our labels are in index form rather than encoded as one-hot vectors, as we discussed earlier, we utilise the ```sparse_categorical_crossentropy``` loss. See [here](https://www.tensorflow.org/api_docs/python/tf/keras/losses) for documentation on the available loss functions in Keras. It is important to ensure the loss function you are using is compatible with the format of your labels.\n",
    "\n",
    "Finally, we need to tell our model that our metric of interest is accuracy, so that this is reported during training and when we evaluate the model."
   ]
  },
  {
   "cell_type": "code",
   "execution_count": 19,
   "metadata": {
    "id": "53ceb7bb"
   },
   "outputs": [],
   "source": [
    "# Instantiate optimiser and compile the model.\n",
    "opt = keras.optimizers.SGD(learning_rate=5e-2)\n",
    "model.compile(loss='sparse_categorical_crossentropy',\n",
    "              optimizer=opt,\n",
    "              metrics=['accuracy'])"
   ]
  },
  {
   "cell_type": "markdown",
   "metadata": {
    "id": "b4b418ff"
   },
   "source": [
    "### Training and evaluating the model\n",
    "\n",
    "Simple model training in Keras is essentially as easy as in sklearn, which is in stark contrast to many other neural network libraries.\n",
    "\n",
    "The training process may take several minutes to run depending on your hardware. As training progresses, watch carefully how the training and validation accuracy change and spot if the model begins to overfit the training data."
   ]
  },
  {
   "cell_type": "code",
   "execution_count": 20,
   "metadata": {
    "colab": {
     "base_uri": "https://localhost:8080/"
    },
    "id": "48ee676b",
    "outputId": "ab4ba97b-b3ec-44c7-d857-f895d3c5a62e"
   },
   "outputs": [
    {
     "name": "stdout",
     "output_type": "stream",
     "text": [
      "Epoch 1/20\n",
      "1688/1688 [==============================] - 6s 3ms/step - loss: 0.3494 - accuracy: 0.9010 - val_loss: 0.2285 - val_accuracy: 0.9312\n",
      "Epoch 2/20\n",
      "1688/1688 [==============================] - 5s 3ms/step - loss: 0.1987 - accuracy: 0.9428 - val_loss: 0.1676 - val_accuracy: 0.9510\n",
      "Epoch 3/20\n",
      "1688/1688 [==============================] - 7s 4ms/step - loss: 0.1491 - accuracy: 0.9566 - val_loss: 0.1372 - val_accuracy: 0.9608\n",
      "Epoch 4/20\n",
      "1688/1688 [==============================] - 6s 3ms/step - loss: 0.1201 - accuracy: 0.9650 - val_loss: 0.1255 - val_accuracy: 0.9653\n",
      "Epoch 5/20\n",
      "1688/1688 [==============================] - 5s 3ms/step - loss: 0.0994 - accuracy: 0.9714 - val_loss: 0.1060 - val_accuracy: 0.9688\n",
      "Epoch 6/20\n",
      "1688/1688 [==============================] - 5s 3ms/step - loss: 0.0846 - accuracy: 0.9755 - val_loss: 0.1022 - val_accuracy: 0.9695\n",
      "Epoch 7/20\n",
      "1688/1688 [==============================] - 5s 3ms/step - loss: 0.0729 - accuracy: 0.9791 - val_loss: 0.0913 - val_accuracy: 0.9732\n",
      "Epoch 8/20\n",
      "1688/1688 [==============================] - 4s 3ms/step - loss: 0.0635 - accuracy: 0.9821 - val_loss: 0.0884 - val_accuracy: 0.9728\n",
      "Epoch 9/20\n",
      "1688/1688 [==============================] - 5s 3ms/step - loss: 0.0551 - accuracy: 0.9846 - val_loss: 0.0809 - val_accuracy: 0.9757\n",
      "Epoch 10/20\n",
      "1688/1688 [==============================] - 4s 3ms/step - loss: 0.0489 - accuracy: 0.9864 - val_loss: 0.0766 - val_accuracy: 0.9768\n",
      "Epoch 11/20\n",
      "1688/1688 [==============================] - 5s 3ms/step - loss: 0.0433 - accuracy: 0.9885 - val_loss: 0.0738 - val_accuracy: 0.9767\n",
      "Epoch 12/20\n",
      "1688/1688 [==============================] - 4s 3ms/step - loss: 0.0382 - accuracy: 0.9903 - val_loss: 0.0728 - val_accuracy: 0.9780\n",
      "Epoch 13/20\n",
      "1688/1688 [==============================] - 5s 3ms/step - loss: 0.0340 - accuracy: 0.9910 - val_loss: 0.0742 - val_accuracy: 0.9772\n",
      "Epoch 14/20\n",
      "1688/1688 [==============================] - 5s 3ms/step - loss: 0.0302 - accuracy: 0.9932 - val_loss: 0.0680 - val_accuracy: 0.9788\n",
      "Epoch 15/20\n",
      "1688/1688 [==============================] - 5s 3ms/step - loss: 0.0265 - accuracy: 0.9935 - val_loss: 0.0699 - val_accuracy: 0.9797\n",
      "Epoch 16/20\n",
      "1688/1688 [==============================] - 5s 3ms/step - loss: 0.0233 - accuracy: 0.9949 - val_loss: 0.0684 - val_accuracy: 0.9792\n",
      "Epoch 17/20\n",
      "1688/1688 [==============================] - 4s 3ms/step - loss: 0.0208 - accuracy: 0.9955 - val_loss: 0.0672 - val_accuracy: 0.9798\n",
      "Epoch 18/20\n",
      "1688/1688 [==============================] - 4s 3ms/step - loss: 0.0183 - accuracy: 0.9966 - val_loss: 0.0641 - val_accuracy: 0.9808\n",
      "Epoch 19/20\n",
      "1688/1688 [==============================] - 4s 3ms/step - loss: 0.0163 - accuracy: 0.9975 - val_loss: 0.0649 - val_accuracy: 0.9812\n",
      "Epoch 20/20\n",
      "1688/1688 [==============================] - 5s 3ms/step - loss: 0.0145 - accuracy: 0.9978 - val_loss: 0.0658 - val_accuracy: 0.9810\n"
     ]
    }
   ],
   "source": [
    "# Train the classifier.\n",
    "history = model.fit(X_train, y_train, epochs=20,\n",
    "                    validation_data=(X_valid, y_valid))"
   ]
  },
  {
   "cell_type": "markdown",
   "metadata": {
    "id": "b1e3c519"
   },
   "source": [
    "Calling the ```fit``` method returns a dictionary of the training history, which we can utilise to visualise the change in training and validation accuracy over time."
   ]
  },
  {
   "cell_type": "code",
   "execution_count": 21,
   "metadata": {
    "colab": {
     "base_uri": "https://localhost:8080/",
     "height": 346
    },
    "id": "49b597f1",
    "outputId": "9dc67568-4acf-4618-daa1-0fbf750de321"
   },
   "outputs": [
    {
     "data": {
      "image/png": "[encoded data removed]",
      "text/plain": [
       "<Figure size 576x360 with 1 Axes>"
      ]
     },
     "metadata": {
      "needs_background": "light"
     },
     "output_type": "display_data"
    }
   ],
   "source": [
    "import pandas as pd\n",
    "\n",
    "# Convert the history dictionary to a Pandas dataframe and extract the accuracies\n",
    "accuracies = pd.DataFrame(history.history)[['accuracy', 'val_accuracy']]\n",
    "\n",
    "# Plot the accuracies\n",
    "accuracies.plot(figsize=(8, 5))\n",
    "plt.grid(True)\n",
    "plt.gca().set_ylim(0.8, 1)\n",
    "plt.xlabel('Epoch')\n",
    "plt.show()"
   ]
  },
  {
   "cell_type": "markdown",
   "metadata": {
    "id": "31b9f889"
   },
   "source": [
    "Evidently, choosing the appropriate place to stop our training is important. While this can be done manually, there are also different methods (such as [Keras callbacks](https://www.tensorflow.org/api_docs/python/tf/keras/callbacks/EarlyStopping)) to automate 'early stopping' from the validation accuracy trends."
   ]
  },
  {
   "cell_type": "markdown",
   "metadata": {
    "id": "b16b21df"
   },
   "source": [
    "To ultimately check the model's generalisation ability, we should evaluate on the test set, which had no influence in the training process."
   ]
  },
  {
   "cell_type": "code",
   "execution_count": 22,
   "metadata": {
    "colab": {
     "base_uri": "https://localhost:8080/"
    },
    "id": "3b17eff7",
    "outputId": "fadc2e26-a315-48f6-b9df-6eaa170ccb96"
   },
   "outputs": [
    {
     "name": "stdout",
     "output_type": "stream",
     "text": [
      "313/313 [==============================] - 0s 1ms/step - loss: 0.0638 - accuracy: 0.9795\n",
      "Accuracy on test data: 0.9795\n"
     ]
    }
   ],
   "source": [
    "# Evaluate the classifier on the test data.\n",
    "loss, accuracy = model.evaluate(X_test, y_test)\n",
    "print(f\"Accuracy on test data: {accuracy:.4f}\")"
   ]
  },
  {
   "cell_type": "markdown",
   "metadata": {
    "id": "d5e30b6a"
   },
   "source": [
    "We can also look directly at our model's predictions. The ```predict``` method will return the final outputs from our model - recall this was a probability distribution over the different classes."
   ]
  },
  {
   "cell_type": "code",
   "execution_count": 23,
   "metadata": {
    "colab": {
     "base_uri": "https://localhost:8080/"
    },
    "id": "9605bb97",
    "outputId": "205dfce6-6598-49e1-b801-1808dd27ae7f"
   },
   "outputs": [
    {
     "name": "stdout",
     "output_type": "stream",
     "text": [
      "[[0. 0. 0. 0. 0. 0. 0. 1. 0. 0.]\n",
      " [0. 0. 1. 0. 0. 0. 0. 0. 0. 0.]\n",
      " [0. 1. 0. 0. 0. 0. 0. 0. 0. 0.]]\n"
     ]
    }
   ],
   "source": []
  },
  {
   "cell_type": "markdown",
   "metadata": {
    "id": "6c7e5b7c"
   },
   "source": [
    "To get the index of the class with the maximum probability (our model's class prediction), we can use the following snippet:"
   ]
  },
  {
   "cell_type": "code",
   "execution_count": 24,
   "metadata": {
    "colab": {
     "base_uri": "https://localhost:8080/"
    },
    "id": "91766f29",
    "outputId": "b52ce223-9cc6-41d2-99d8-53399a1960e0"
   },
   "outputs": [
    {
     "name": "stdout",
     "output_type": "stream",
     "text": [
      "[7 2 1]\n"
     ]
    }
   ],
   "source": [
    "y_pred = np.argmax(y_proba, axis=-1)\n",
    "print(y_pred)"
   ]
  },
  {
   "cell_type": "markdown",
   "metadata": {
    "id": "34ae42cf"
   },
   "source": [
    "Let's verify the predictions by inspecting the corresponding images."
   ]
  },
  {
   "cell_type": "code",
   "execution_count": 25,
   "metadata": {
    "colab": {
     "base_uri": "https://localhost:8080/",
     "height": 90
    },
    "id": "cc0f63f9",
    "outputId": "73730a0a-7eb7-4c52-a85c-9e1c9ee16ccb"
   },
   "outputs": [
    {
     "data": {
      "image/png": "[encoded data removed]",
      "text/plain": [
       "<Figure size 259.2x86.4 with 3 Axes>"
      ]
     },
     "metadata": {
      "needs_background": "light"
     },
     "output_type": "display_data"
    }
   ],
   "source": [
    "plot_examples(X_test, n_rows=1, n_cols=3)"
   ]
  },
  {
   "cell_type": "markdown",
   "metadata": {
    "id": "1e8f58f8"
   },
   "source": [
    "## 4. Parameter Search for Neural Networks\n",
    "\n",
    "Hyperparameter tuning is especially difficult for neural networks due to two factors. \n",
    "\n",
    "Firstly, the flexibility of neural networks means there are many possible hyperparameters to tweak. In a basic MLP implementation, parameters we can possibly tune include:\n",
    "- number of hidden layers\n",
    "- number of neurons in each layer\n",
    "- activation functions\n",
    "- learning rate\n",
    "- optimiser\n",
    "- batch size \n",
    "\n",
    "The second difficulty is that the runtime of neural networks is generally much higher than traditional ML algorithms unless we run our algorithms on powerful GPUs (which can better parallelise the computations).\n",
    "\n",
    "The result is that we often have to tradeoff between an exhaustive parameter search and a long runtime."
   ]
  },
  {
   "cell_type": "markdown",
   "metadata": {
    "id": "cfae3d05"
   },
   "source": [
    "Let's define a function which allows us to quickly build a Keras model with our desired parameters. We can use this to try out different parameter combinations!"
   ]
  },
  {
   "cell_type": "code",
   "execution_count": 26,
   "metadata": {
    "id": "469ccfae"
   },
   "outputs": [],
   "source": [
    "def build_mlp(\n",
    "    n_hidden_layers=2, n_hidden_neurons=50,\n",
    "    activation_function=\"relu\", input_shape=[28,28], learning_rate=0.01\n",
    "):\n",
    "    \"\"\"Build a Keras MLP for 10 class classification with desired parameters.\"\"\"\n",
    "    \n",
    "    model = keras.models.Sequential()\n",
    "    \n",
    "    # Add the input layer\n",
    "    model.add(keras.layers.Flatten(input_shape=input_shape))\n",
    "    \n",
    "    # Add the hidden layers with desired size and activation function\n",
    "    for layer in range(n_hidden_layers):\n",
    "        model.add(keras.layers.Dense(n_hidden_neurons, activation=activation_function))\n",
    "        \n",
    "    # Add the output layer for 10 class classification\n",
    "    model.add(keras.layers.Dense(10, activation=\"softmax\"))\n",
    "    \n",
    "    return model"
   ]
  },
  {
   "cell_type": "markdown",
   "metadata": {
    "id": "26379f25"
   },
   "source": [
    "### Using sklearn grid searches with Keras models\n",
    "\n",
    "We could conduct a parameter search by writing our own loop over parameter values and simply using the validation set to approximate the performance of the different combinations.\n",
    "\n",
    "However, it is also possible to use sklearn's parameter search utilities with Keras models. Previously, this functionality was included in Keras as ```keras.wrappers.scikit_learn```, however the functionality has now been taken over by SciKeras\n",
    "\n",
    "Using SciKeras, we can use a wrapper which allows our Keras classifier to act like a typical sklearn classifier. The wrapper will handle the compilation of our model, and we need to pass the parameters we wish to tune as arguments to its constructor. From there, we can set up a grid search just like we have in the previous weeks!"
   ]
  },
  {
   "cell_type": "code",
   "execution_count": 27,
   "metadata": {
    "id": "f9ad2fc0"
   },
   "outputs": [],
   "source": [
    "from scikeras.wrappers import KerasClassifier\n",
    "\n",
    "# Create a KerasClassifier object which works with sklearn grid searches\n",
    "# We need to pass default values of arguments in build_mlp if we wish to tune them\n",
    "keras_classifier = KerasClassifier(build_fn=build_mlp,\n",
    "                                   n_hidden_layers=2,\n",
    "                                   n_hidden_neurons=50,\n",
    "                                   activation_function=\"relu\",\n",
    "                                   loss=\"sparse_categorical_crossentropy\",\n",
    "                                   optimizer=\"sgd\",\n",
    "                                   learning_rate=0.01,\n",
    "                                   metrics=[\"accuracy\"]\n",
    "                                  )"
   ]
  },
  {
   "cell_type": "markdown",
   "metadata": {
    "id": "b2621352"
   },
   "source": [
    "For now, let's consider models with two hidden layers and tune over several other parameters.\n",
    "\n",
    "The following cell will take a long time to run (possibly several hours depending on your hardware), and it is **not recommended to run it during the lab**."
   ]
  },
  {
   "cell_type": "code",
   "execution_count": null,
   "metadata": {
    "colab": {
     "base_uri": "https://localhost:8080/"
    },
    "id": "fa19f5ef",
    "outputId": "7cff9675-ea98-4a16-9c0f-e4b423f43e56"
   },
   "outputs": [],
   "source": [
    "\"\"\"This cell has a long runtime. Not recommended during lab.\"\"\"\n",
    "from sklearn.model_selection import GridSearchCV\n",
    "\n",
    "param_grid = {\n",
    "    \"n_hidden_neurons\": [100, 200],\n",
    "    \"learning_rate\": [0.1, 0.01, 0.001],\n",
    "    \"activation_function\": [\"relu\", \"sigmoid\", \"tanh\"]\n",
    "}\n",
    "\n",
    "grid_search_cv = GridSearchCV(keras_classifier, param_grid, cv=3, verbose=2)\n",
    "grid_search_cv.fit(X_train, y_train, epochs=20)"
   ]
  },
  {
   "cell_type": "code",
   "execution_count": null,
   "metadata": {
    "colab": {
     "base_uri": "https://localhost:8080/"
    },
    "id": "016f0a3d",
    "outputId": "8fa5f636-072f-4d29-e6f7-c8f0946f12b3"
   },
   "outputs": [],
   "source": [
    "print(grid_search_cv.best_params_)\n",
    "best_model = grid_search_cv.best_estimator_.model_"
   ]
  },
  {
   "cell_type": "markdown",
   "metadata": {
    "id": "346c7dbe"
   },
   "source": [
    "For even larger models than the MLPs we have considered here, exhaustive grid search and cross validation quickly become infeasible. Other than using more powerful hardware, one approach is to run a broad initial search using the validation set, and then narrow the search space once appropriate starting parameters are identified. There also exist many algorithsm to more efficiently search the hyperparameter space such as Bayesian Search. Ultimately, however, there is no escpaing neural network's need for computation power and their long runtimes. This is one reason why neural networks are not always the most appropriate solution to your problem."
   ]
  },
  {
   "cell_type": "markdown",
   "metadata": {
    "id": "c61c87df"
   },
   "source": [
    "## 5. Task - Using an MLP for Regression\n",
    "\n",
    "Today we have demonstrated how to create an image classifier MLP. Beyond multi-class classification problems, MLPs can also be used to solve other types of problems, such as binary classification and regression. To do this, we may need to change the output encoding.\n",
    "\n",
    "For binary classification we can use 2 output neurons (1 for each class) as before, or 1 neuron only with sigmoid (logistic) output layer activation (values close to 0 represent class 0, values close to 1 represent class 1).\n",
    "\n",
    "In regression problems, if we predict a single value (e.g. the price of a house or the exchange rate of the Australian dollar), we will need a single output neuron. If we want to predict multiple values, e.g. the electricity consumption for tomorrow for every hour (24 values), then there should be one output neuron per predicted value. No output activation is necessarily required, but ReLU may be used if the output must be positive, and sigmoid/tanh can be used for bounded outputs. The other change for regression problems is the loss function (cross entropy is not appropriate for regression). Mean squared error (MSE) ([Keras documentation](https://keras.io/api/losses/)) is often used."
   ]
  },
  {
   "cell_type": "markdown",
   "metadata": {
    "id": "af4404a9"
   },
   "source": [
    "Below we have loaded and preprocessed the Boston Housing dataset, which contains 13 numerical attibutes of houses of Boston suburbs in the late 1970s. The target variable is the house price in thousands of dollars. For more details on the actual attributes, you can view this [link](http://lib.stat.cmu.edu/datasets/boston)."
   ]
  },
  {
   "cell_type": "code",
   "execution_count": 28,
   "metadata": {
    "colab": {
     "base_uri": "https://localhost:8080/"
    },
    "id": "e481c28a",
    "outputId": "18ca8e63-deae-495a-d2f8-e9b5fcb149b9"
   },
   "outputs": [],
   "source": [
    "# Load the Boston Housing data\n",
    "(X_train_full, y_train_full), (X_test, y_test) = keras.datasets.boston_housing.load_data()"
   ]
  },
  {
   "cell_type": "code",
   "execution_count": 29,
   "metadata": {
    "colab": {
     "base_uri": "https://localhost:8080/"
    },
    "id": "74261d07",
    "outputId": "200ddd04-8b56-42c1-c4cf-9df70142d3ff"
   },
   "outputs": [
    {
     "name": "stdout",
     "output_type": "stream",
     "text": [
      "Shape of X_train_full: (404, 13)\n",
      "Shape of y_train_full: (404,)\n",
      "Shape of X_test: (102, 13)\n",
      "Shape of y_test: (102,)\n"
     ]
    }
   ],
   "source": [
    "print(f\"Shape of X_train_full: {X_train_full.shape}\")\n",
    "print(f\"Shape of y_train_full: {y_train_full.shape}\")\n",
    "print(f\"Shape of X_test: {X_test.shape}\")\n",
    "print(f\"Shape of y_test: {y_test.shape}\")"
   ]
  },
  {
   "cell_type": "code",
   "execution_count": 30,
   "metadata": {
    "id": "a957098e"
   },
   "outputs": [],
   "source": [
    "np.random.seed(42)\n",
    "tf.random.set_seed(42)\n",
    "keras.backend.clear_session()"
   ]
  },
  {
   "cell_type": "code",
   "execution_count": 31,
   "metadata": {
    "id": "f64c8b29"
   },
   "outputs": [],
   "source": [
    "from sklearn.preprocessing import StandardScaler\n",
    "\n",
    "# Create a validation set\n",
    "X_train, X_valid, y_train, y_valid = train_test_split(X_train_full, y_train_full, random_state=42)\n",
    "\n",
    "# Standardise the data\n",
    "scaler = StandardScaler()\n",
    "X_train = scaler.fit_transform(X_train)\n",
    "X_valid = scaler.transform(X_valid)\n",
    "X_test = scaler.transform(X_test)"
   ]
  },
  {
   "cell_type": "markdown",
   "metadata": {
    "id": "2f8e628d"
   },
   "source": [
    "### Task\n",
    "Define, train and evaluate a regression MLP on this dataset. To achieve this, you will need to:\n",
    "- Remember to adjust the input shape and output layer appropriately for this dataset\n",
    "- Compile the model with an appropriate loss function\n",
    "- Interpret the evaluation, since for this regression problem accuracy is not a valid metric"
   ]
  },
  {
   "cell_type": "markdown",
   "metadata": {
    "id": "b6ff31b1"
   },
   "source": [
    "### Solution:\n",
    "\n",
    "This is one possible simple solution using the same hidden layer structure as above."
   ]
  },
  {
   "cell_type": "code",
   "execution_count": 32,
   "metadata": {
    "id": "dd0991c9"
   },
   "outputs": [],
   "source": [
    "# Define our Keras model with appropriate input size and output\n",
    "model = keras.Sequential([\n",
    "    keras.layers.Dense(300, activation=\"relu\", input_shape=X_train.shape[1:]),\n",
    "    keras.layers.Dense(100, activation=\"relu\"),\n",
    "    keras.layers.Dense(1)\n",
    "])\n",
    "\n",
    "# Compile model with MSE loss\n",
    "model.compile(loss=\"mean_squared_error\", optimizer=keras.optimizers.SGD(learning_rate=1e-3))"
   ]
  },
  {
   "cell_type": "code",
   "execution_count": 33,
   "metadata": {
    "colab": {
     "base_uri": "https://localhost:8080/"
    },
    "id": "876bc46e",
    "outputId": "d2ca024a-3507-462d-f178-49a64fd67a31"
   },
   "outputs": [
    {
     "name": "stdout",
     "output_type": "stream",
     "text": [
      "Epoch 1/20\n",
      "10/10 [==============================] - 0s 11ms/step - loss: 547.7675 - val_loss: 330.2329\n",
      "Epoch 2/20\n",
      "10/10 [==============================] - 0s 4ms/step - loss: 211.8402 - val_loss: 63.3655\n",
      "Epoch 3/20\n",
      "10/10 [==============================] - 0s 4ms/step - loss: 49.4029 - val_loss: 32.2598\n",
      "Epoch 4/20\n",
      "10/10 [==============================] - 0s 6ms/step - loss: 31.1562 - val_loss: 25.3474\n",
      "Epoch 5/20\n",
      "10/10 [==============================] - 0s 5ms/step - loss: 25.2875 - val_loss: 20.0847\n",
      "Epoch 6/20\n",
      "10/10 [==============================] - 0s 4ms/step - loss: 22.2691 - val_loss: 17.7285\n",
      "Epoch 7/20\n",
      "10/10 [==============================] - 0s 4ms/step - loss: 20.0409 - val_loss: 15.9388\n",
      "Epoch 8/20\n",
      "10/10 [==============================] - 0s 5ms/step - loss: 18.2024 - val_loss: 14.6660\n",
      "Epoch 9/20\n",
      "10/10 [==============================] - 0s 3ms/step - loss: 17.1464 - val_loss: 13.4113\n",
      "Epoch 10/20\n",
      "10/10 [==============================] - 0s 3ms/step - loss: 16.0479 - val_loss: 12.6765\n",
      "Epoch 11/20\n",
      "10/10 [==============================] - 0s 5ms/step - loss: 15.2514 - val_loss: 11.9131\n",
      "Epoch 12/20\n",
      "10/10 [==============================] - 0s 3ms/step - loss: 14.6534 - val_loss: 11.6748\n",
      "Epoch 13/20\n",
      "10/10 [==============================] - 0s 3ms/step - loss: 13.7723 - val_loss: 10.6946\n",
      "Epoch 14/20\n",
      "10/10 [==============================] - 0s 5ms/step - loss: 13.1478 - val_loss: 10.3933\n",
      "Epoch 15/20\n",
      "10/10 [==============================] - 0s 5ms/step - loss: 12.8889 - val_loss: 10.0510\n",
      "Epoch 16/20\n",
      "10/10 [==============================] - 0s 3ms/step - loss: 11.9329 - val_loss: 10.9085\n",
      "Epoch 17/20\n",
      "10/10 [==============================] - 0s 4ms/step - loss: 11.8309 - val_loss: 9.6554\n",
      "Epoch 18/20\n",
      "10/10 [==============================] - 0s 4ms/step - loss: 11.1047 - val_loss: 10.4408\n",
      "Epoch 19/20\n",
      "10/10 [==============================] - 0s 6ms/step - loss: 11.1498 - val_loss: 9.3134\n",
      "Epoch 20/20\n",
      "10/10 [==============================] - 0s 3ms/step - loss: 10.5452 - val_loss: 11.1688\n"
     ]
    }
   ],
   "source": [
    "# Train the model\n",
    "history = model.fit(X_train, y_train, epochs=20, validation_data=(X_valid, y_valid))"
   ]
  },
  {
   "cell_type": "code",
   "execution_count": 34,
   "metadata": {
    "colab": {
     "base_uri": "https://localhost:8080/"
    },
    "id": "caf6c20b",
    "outputId": "e699464e-1673-4204-8c45-272765ecafce"
   },
   "outputs": [
    {
     "name": "stdout",
     "output_type": "stream",
     "text": [
      "4/4 [==============================] - 0s 5ms/step - loss: 23.4793\n"
     ]
    }
   ],
   "source": [
    "# Evaluate the model using MSE as a metric\n",
    "mse_test = model.evaluate(X_test, y_test)"
   ]
  },
  {
   "cell_type": "code",
   "execution_count": 35,
   "metadata": {
    "colab": {
     "base_uri": "https://localhost:8080/"
    },
    "id": "a5aaabff",
    "outputId": "c717f5d3-32cb-45d8-fd77-2d712254874e"
   },
   "outputs": [
    {
     "name": "stdout",
     "output_type": "stream",
     "text": [
      "Model prediction: 9.95; True value: 7.2\n",
      "Model prediction: 17.18; True value: 18.8\n",
      "Model prediction: 21.42; True value: 19.0\n"
     ]
    }
   ],
   "source": [
    "# Examine several model predictions\n",
    "y_pred = model.predict(X_test[:3])\n",
    "\n",
    "for i in range(3):\n",
    "    print(f\"Model prediction: {y_pred[i][0]:.2f}; True value: {y_test[i]}\")"
   ]
  },
  {
   "cell_type": "markdown",
   "metadata": {
    "id": "0d08bbda"
   },
   "source": [
    "## 6. Summary"
   ]
  },
  {
   "cell_type": "markdown",
   "metadata": {
    "id": "b58584ac"
   },
   "source": [
    "Today, we have only scratched the surface of Keras' functionality. It is a rich library with lots of possible customisation, and a 'Functional API' ([documentation](https://keras.io/guides/functional_api/)) to create more complex models. Nevertheless, hopefully this provides a springboard for your further study and utilisation of deep learning libraries."
   ]
  },
  {
   "cell_type": "code",
   "execution_count": null,
   "metadata": {
    "id": "f2f70b98"
   },
   "outputs": [],
   "source": [
    "model = keras.models.Sequential([\n",
    "    keras.layers.Flatten(input_shape=[28, 28]),\n",
    "    keras.layers.Dense(300, activation=\"tanh\"),\n",
    "    keras.layers.Dense(100, activation=\"tanh\"),\n",
    "    keras.layers.Dense(10, activation=\"softmax\")\n",
    "])\n",
    "\n",
    "opt = keras.optimizers.SGD(learning_rate=5e-2)\n",
    "model.compile(loss='sparse_categorical_crossentropy',\n",
    "              optimizer=opt,\n",
    "              metrics=['accuracy'])\n",
    "\n",
    "history = model.fit(X_train, y_train, epochs=20,\n",
    "                    validation_data=(X_valid, y_valid))\n",
    "\n",
    "loss, accuracy = model.evaluate(X_test, y_test)\n",
    "print(f\"Accuracy on test data: {accuracy:.4f}\")"
   ]
  },
  {
   "cell_type": "markdown",
   "metadata": {
    "id": "a582db77"
   },
   "source": [
    "## Acknowledgements\n",
    "\n",
    "This tutorial is based on:\n",
    "\n",
    "Aurelien Geron (2022). Hands-on Machine Learning with Scikit-Learn, Keras and TensorFlow, O'Reilly."
   ]
  }
 ],
 "metadata": {
  "accelerator": "GPU",
  "colab": {
   "collapsed_sections": [
    "1bc99a5c",
    "564b6dde",
    "4a1825c9",
    "89db6122",
    "2b825979",
    "3f3c9c77",
    "2f8e628d"
   ],
   "name": "w7-new-solutions.ipynb",
   "provenance": []
  },
  "kernelspec": {
   "display_name": "Python 3",
   "language": "python",
   "name": "python3"
  },
  "language_info": {
   "codemirror_mode": {
    "name": "ipython",
    "version": 3
   },
   "file_extension": ".py",
   "mimetype": "text/x-python",
   "name": "python",
   "nbconvert_exporter": "python",
   "pygments_lexer": "ipython3",
   "version": "3.7.4"
  }
 },
 "nbformat": 4,
 "nbformat_minor": 5
}
